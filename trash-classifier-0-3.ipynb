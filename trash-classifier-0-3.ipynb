{
 "cells": [
  {
   "cell_type": "markdown",
   "metadata": {},
   "source": [
    "# Log 0.3\n",
    "1. Increased epochs to 30 since we expect less overtraining\n",
    "2. add dropout and kernel regularization\n",
    "4. Little overtraining, ended at around accuracy a(t) ~ 0.45, a(v) ~ 0.42 and loss l(t) ~ 1.5, l(v) ~ 1.5\n",
    "5. Idea: Accuracy is low, try softmax activation or train more"
   ]
  },
  {
   "cell_type": "code",
   "execution_count": 1,
   "metadata": {},
   "outputs": [
    {
     "name": "stdout",
     "output_type": "stream",
     "text": [
      "data/training/cardboard number of items: 199\n",
      "data/training/glass number of items: 199\n",
      "data/training/metal number of items: 199\n",
      "data/training/paper number of items: 199\n",
      "data/training/plastic number of items: 299\n",
      "data/training/trash number of items: 69\n",
      "data/validating/cardboard number of items: 104\n",
      "data/validating/glass number of items: 202\n",
      "data/validating/metal number of items: 111\n",
      "data/validating/paper number of items: 295\n",
      "data/validating/plastic number of items: 183\n",
      "data/validating/trash number of items: 38\n",
      "data/testing/cardboard number of items: 100\n",
      "data/testing/glass number of items: 100\n",
      "data/testing/metal number of items: 100\n",
      "data/testing/paper number of items: 100\n",
      "data/testing/plastic number of items: 100\n",
      "data/testing/trash number of items: 30\n"
     ]
    }
   ],
   "source": [
    "# print out data splits for all categories\n",
    "import keras, os, shutil\n",
    "#keras.__version__ 2.4.3\n",
    "\n",
    "\n",
    "base = \"data\"\n",
    "splits = [\"training\", \"validating\", \"testing\"]\n",
    "categories = [\"cardboard\", \"glass\", \"metal\", \"paper\", \"plastic\", \"trash\"]\n",
    "\n",
    "\n",
    "for split in splits:\n",
    "    for category in categories:\n",
    "        path = os.path.join(base, split, category)\n",
    "        print (path, \"number of items:\", len(os.listdir(path)))"
   ]
  },
  {
   "cell_type": "code",
   "execution_count": 2,
   "metadata": {},
   "outputs": [
    {
     "name": "stdout",
     "output_type": "stream",
     "text": [
      "Found 1164 images belonging to 6 classes.\n",
      "Found 933 images belonging to 6 classes.\n",
      "data batch shape: (20, 64, 64, 3)\n",
      "labels batch shape: (20, 6)\n"
     ]
    }
   ],
   "source": [
    "# load data and print batch details\n",
    "from keras.preprocessing.image import ImageDataGenerator\n",
    "\n",
    "train_generator = ImageDataGenerator(rescale=1./255).flow_from_directory(\n",
    "        # This is the target directory\n",
    "        \"data/training\",\n",
    "        # image size\n",
    "        target_size=(64, 64),\n",
    "        batch_size=20,\n",
    "        class_mode='categorical')\n",
    "\n",
    "validation_generator = ImageDataGenerator(rescale=1./255).flow_from_directory(\n",
    "        \"data/validating\",\n",
    "        target_size=(64, 64),\n",
    "        batch_size=20,\n",
    "        class_mode='categorical')\n",
    "\n",
    "for data_batch, labels_batch in train_generator:\n",
    "    print('data batch shape:', data_batch.shape)\n",
    "    print('labels batch shape:', labels_batch.shape)\n",
    "    break"
   ]
  },
  {
   "cell_type": "code",
   "execution_count": 3,
   "metadata": {},
   "outputs": [
    {
     "name": "stdout",
     "output_type": "stream",
     "text": [
      "Model: \"sequential\"\n",
      "_________________________________________________________________\n",
      "Layer (type)                 Output Shape              Param #   \n",
      "=================================================================\n",
      "conv2d (Conv2D)              (None, 62, 62, 32)        896       \n",
      "_________________________________________________________________\n",
      "max_pooling2d (MaxPooling2D) (None, 31, 31, 32)        0         \n",
      "_________________________________________________________________\n",
      "conv2d_1 (Conv2D)            (None, 29, 29, 16)        4624      \n",
      "_________________________________________________________________\n",
      "max_pooling2d_1 (MaxPooling2 (None, 14, 14, 16)        0         \n",
      "_________________________________________________________________\n",
      "conv2d_2 (Conv2D)            (None, 12, 12, 32)        4640      \n",
      "_________________________________________________________________\n",
      "max_pooling2d_2 (MaxPooling2 (None, 6, 6, 32)          0         \n",
      "_________________________________________________________________\n",
      "conv2d_3 (Conv2D)            (None, 4, 4, 32)          9248      \n",
      "_________________________________________________________________\n",
      "max_pooling2d_3 (MaxPooling2 (None, 2, 2, 32)          0         \n",
      "_________________________________________________________________\n",
      "flatten (Flatten)            (None, 128)               0         \n",
      "_________________________________________________________________\n",
      "dropout (Dropout)            (None, 128)               0         \n",
      "_________________________________________________________________\n",
      "dense (Dense)                (None, 128)               16512     \n",
      "_________________________________________________________________\n",
      "dense_1 (Dense)              (None, 6)                 774       \n",
      "=================================================================\n",
      "Total params: 36,694\n",
      "Trainable params: 36,694\n",
      "Non-trainable params: 0\n",
      "_________________________________________________________________\n"
     ]
    }
   ],
   "source": [
    "# build network and print summary\n",
    "from keras import layers\n",
    "from keras import models\n",
    "from keras import regularizers\n",
    "\n",
    "model = models.Sequential()\n",
    "model.add(layers.Conv2D(32, (3, 3), activation='relu',\n",
    "                        input_shape=(64, 64, 3)))\n",
    "model.add(layers.MaxPooling2D((2, 2)))\n",
    "model.add(layers.Conv2D(16, (3, 3), activation='relu'))\n",
    "model.add(layers.MaxPooling2D((2, 2)))\n",
    "model.add(layers.Conv2D(32, (3, 3), activation='relu'))\n",
    "model.add(layers.MaxPooling2D((2, 2)))\n",
    "model.add(layers.Conv2D(32, (3, 3), activation='relu'))\n",
    "model.add(layers.MaxPooling2D((2, 2)))\n",
    "model.add(layers.Flatten())\n",
    "model.add(layers.Dropout(0.5))\n",
    "model.add(layers.Dense(128, kernel_regularizer=regularizers.l2(0.001), activation='relu'))\n",
    "model.add(layers.Dense(6, activation='sigmoid'))\n",
    "\n",
    "model.summary()\n",
    "\n",
    "\n",
    "# add optimizer\n",
    "from keras import optimizers\n",
    "\n",
    "model.compile(loss='categorical_crossentropy',\n",
    "              optimizer=optimizers.RMSprop(lr=1e-4),\n",
    "              metrics=['acc'])"
   ]
  },
  {
   "cell_type": "code",
   "execution_count": 4,
   "metadata": {},
   "outputs": [
    {
     "name": "stdout",
     "output_type": "stream",
     "text": [
      "WARNING:tensorflow:From <ipython-input-4-c81d81840aa8>:7: Model.fit_generator (from tensorflow.python.keras.engine.training) is deprecated and will be removed in a future version.\n",
      "Instructions for updating:\n",
      "Please use Model.fit, which supports generators.\n",
      "Epoch 1/30\n",
      "100/100 [==============================] - 21s 211ms/step - loss: 1.9029 - acc: 0.1971 - val_loss: 1.8632 - val_acc: 0.1944\n",
      "Epoch 2/30\n",
      "100/100 [==============================] - 23s 231ms/step - loss: 1.8551 - acc: 0.2617 - val_loss: 1.8115 - val_acc: 0.1974\n",
      "Epoch 3/30\n",
      "100/100 [==============================] - 20s 198ms/step - loss: 1.8320 - acc: 0.2520 - val_loss: 1.7979 - val_acc: 0.2044\n",
      "Epoch 4/30\n",
      "100/100 [==============================] - 19s 194ms/step - loss: 1.8209 - acc: 0.2530 - val_loss: 1.7979 - val_acc: 0.1944\n",
      "Epoch 5/30\n",
      "100/100 [==============================] - 24s 242ms/step - loss: 1.8039 - acc: 0.2566 - val_loss: 1.7731 - val_acc: 0.1974\n",
      "Epoch 6/30\n",
      "100/100 [==============================] - 23s 234ms/step - loss: 1.7913 - acc: 0.2708 - val_loss: 1.7790 - val_acc: 0.1913\n",
      "Epoch 7/30\n",
      "100/100 [==============================] - 23s 235ms/step - loss: 1.7677 - acc: 0.2818 - val_loss: 1.7384 - val_acc: 0.2397\n",
      "Epoch 8/30\n",
      "100/100 [==============================] - 23s 226ms/step - loss: 1.7451 - acc: 0.3054 - val_loss: 1.7191 - val_acc: 0.2941\n",
      "Epoch 9/30\n",
      "100/100 [==============================] - 22s 221ms/step - loss: 1.7028 - acc: 0.3242 - val_loss: 1.6891 - val_acc: 0.2830\n",
      "Epoch 10/30\n",
      "100/100 [==============================] - 22s 217ms/step - loss: 1.6908 - acc: 0.3463 - val_loss: 1.6585 - val_acc: 0.3021\n",
      "Epoch 11/30\n",
      "100/100 [==============================] - 23s 232ms/step - loss: 1.6761 - acc: 0.3491 - val_loss: 1.6597 - val_acc: 0.2931\n",
      "Epoch 12/30\n",
      "100/100 [==============================] - 25s 253ms/step - loss: 1.6628 - acc: 0.3587 - val_loss: 1.6423 - val_acc: 0.2819\n",
      "Epoch 13/30\n",
      "100/100 [==============================] - 20s 196ms/step - loss: 1.6569 - acc: 0.3694 - val_loss: 1.6502 - val_acc: 0.2729\n",
      "Epoch 14/30\n",
      "100/100 [==============================] - 23s 226ms/step - loss: 1.6522 - acc: 0.3649 - val_loss: 1.6200 - val_acc: 0.2961\n",
      "Epoch 15/30\n",
      "100/100 [==============================] - 23s 227ms/step - loss: 1.6366 - acc: 0.3730 - val_loss: 1.6194 - val_acc: 0.2689\n",
      "Epoch 16/30\n",
      "100/100 [==============================] - 26s 264ms/step - loss: 1.6339 - acc: 0.3750 - val_loss: 1.6038 - val_acc: 0.3001\n",
      "Epoch 17/30\n",
      "100/100 [==============================] - 23s 235ms/step - loss: 1.6234 - acc: 0.3700 - val_loss: 1.6129 - val_acc: 0.2870\n",
      "Epoch 18/30\n",
      "100/100 [==============================] - 26s 263ms/step - loss: 1.6019 - acc: 0.3902 - val_loss: 1.6121 - val_acc: 0.2951\n",
      "Epoch 19/30\n",
      "100/100 [==============================] - 26s 257ms/step - loss: 1.6183 - acc: 0.3643 - val_loss: 1.6121 - val_acc: 0.3082\n",
      "Epoch 20/30\n",
      "100/100 [==============================] - 25s 250ms/step - loss: 1.5884 - acc: 0.3916 - val_loss: 1.5933 - val_acc: 0.3082\n",
      "Epoch 21/30\n",
      "100/100 [==============================] - 24s 241ms/step - loss: 1.5989 - acc: 0.3882 - val_loss: 1.5627 - val_acc: 0.3706\n",
      "Epoch 22/30\n",
      "100/100 [==============================] - 25s 249ms/step - loss: 1.5756 - acc: 0.3994 - val_loss: 1.5630 - val_acc: 0.3847\n",
      "Epoch 23/30\n",
      "100/100 [==============================] - 25s 250ms/step - loss: 1.5597 - acc: 0.4090 - val_loss: 1.5595 - val_acc: 0.3867\n",
      "Epoch 24/30\n",
      "100/100 [==============================] - 26s 256ms/step - loss: 1.5303 - acc: 0.4320 - val_loss: 1.5334 - val_acc: 0.3935\n",
      "Epoch 25/30\n",
      "100/100 [==============================] - 23s 229ms/step - loss: 1.5412 - acc: 0.4263 - val_loss: 1.5130 - val_acc: 0.3998\n",
      "Epoch 26/30\n",
      "100/100 [==============================] - 26s 258ms/step - loss: 1.5143 - acc: 0.4314 - val_loss: 1.4965 - val_acc: 0.3776\n",
      "Epoch 27/30\n",
      "100/100 [==============================] - 28s 276ms/step - loss: 1.5136 - acc: 0.4335 - val_loss: 1.5005 - val_acc: 0.3887\n",
      "Epoch 28/30\n",
      "100/100 [==============================] - 23s 226ms/step - loss: 1.4774 - acc: 0.4533 - val_loss: 1.4380 - val_acc: 0.4250\n",
      "Epoch 29/30\n",
      "100/100 [==============================] - 27s 271ms/step - loss: 1.4819 - acc: 0.4482 - val_loss: 1.4524 - val_acc: 0.4018\n",
      "Epoch 30/30\n",
      "100/100 [==============================] - 22s 225ms/step - loss: 1.4753 - acc: 0.4466 - val_loss: 1.4788 - val_acc: 0.4270\n"
     ]
    }
   ],
   "source": [
    "# train and save model\n",
    "history = model.fit_generator(\n",
    "      train_generator,\n",
    "      steps_per_epoch=100,\n",
    "      epochs=30,\n",
    "      validation_data=validation_generator,\n",
    "      validation_steps=50)\n",
    "\n",
    "model.save('trash-classifier-0-3.h5')"
   ]
  },
  {
   "cell_type": "code",
   "execution_count": 5,
   "metadata": {},
   "outputs": [
    {
     "data": {
      "image/png": "[encoded data removed]",
      "text/plain": [
       "<Figure size 432x288 with 1 Axes>"
      ]
     },
     "metadata": {
      "needs_background": "light"
     },
     "output_type": "display_data"
    },
    {
     "data": {
      "image/png": "[encoded data removed]",
      "text/plain": [
       "<Figure size 432x288 with 1 Axes>"
      ]
     },
     "metadata": {
      "needs_background": "light"
     },
     "output_type": "display_data"
    }
   ],
   "source": [
    "# plot accuracy and loss graphs\n",
    "import matplotlib.pyplot as plt\n",
    "\n",
    "acc = history.history['acc']\n",
    "val_acc = history.history['val_acc']\n",
    "loss = history.history['loss']\n",
    "val_loss = history.history['val_loss']\n",
    "\n",
    "epochs = range(len(acc))\n",
    "\n",
    "plt.plot(epochs, acc, 'bo', label='Training acc')\n",
    "plt.plot(epochs, val_acc, 'b', label='Validation acc')\n",
    "plt.title('Training and validation accuracy')\n",
    "plt.legend()\n",
    "\n",
    "plt.figure()\n",
    "\n",
    "plt.plot(epochs, loss, 'bo', label='Training loss')\n",
    "plt.plot(epochs, val_loss, 'b', label='Validation loss')\n",
    "plt.title('Training and validation loss')\n",
    "plt.legend()\n",
    "\n",
    "plt.show()"
   ]
  }
 ],
 "metadata": {
  "kernelspec": {
   "display_name": "Python 3",
   "language": "python",
   "name": "python3"
  },
  "language_info": {
   "codemirror_mode": {
    "name": "ipython",
    "version": 3
   },
   "file_extension": ".py",
   "mimetype": "text/x-python",
   "name": "python",
   "nbconvert_exporter": "python",
   "pygments_lexer": "ipython3",
   "version": "3.7.9"
  }
 },
 "nbformat": 4,
 "nbformat_minor": 4
}
