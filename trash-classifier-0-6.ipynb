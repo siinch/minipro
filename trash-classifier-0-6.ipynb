{
 "cells": [
  {
   "cell_type": "markdown",
   "metadata": {},
   "source": [
    "# Log 0.6\n",
    "1. Trying the VGG16 model like in the pretrained-covnet-example, but with categorical class mode\n",
    "2. back to 30 epocs\n",
    "3. some overtraining, but higher accuracy a(t) ~ 0.95, a(v) ~ 0.7 and loss l(t) ~ .02, l(v) ~ 1\n",
    "4. Idea: Save features and labels to avoid running them through the covnet repeatedly\n",
    "5. Then try to add more dense layers with dropout and regularization to avoid overtraining\n"
   ]
  },
  {
   "cell_type": "code",
   "execution_count": 1,
   "metadata": {},
   "outputs": [
    {
     "name": "stdout",
     "output_type": "stream",
     "text": [
      "data/training/cardboard number of items: 199\n",
      "data/training/glass number of items: 199\n",
      "data/training/metal number of items: 199\n",
      "data/training/paper number of items: 199\n",
      "data/training/plastic number of items: 299\n",
      "data/training/trash number of items: 69\n",
      "data/validating/cardboard number of items: 104\n",
      "data/validating/glass number of items: 202\n",
      "data/validating/metal number of items: 111\n",
      "data/validating/paper number of items: 295\n",
      "data/validating/plastic number of items: 183\n",
      "data/validating/trash number of items: 38\n",
      "data/testing/cardboard number of items: 100\n",
      "data/testing/glass number of items: 100\n",
      "data/testing/metal number of items: 100\n",
      "data/testing/paper number of items: 100\n",
      "data/testing/plastic number of items: 100\n",
      "data/testing/trash number of items: 30\n"
     ]
    }
   ],
   "source": [
    "# print out data splits for all categories\n",
    "import keras, os, shutil\n",
    "#keras.__version__ 2.4.3\n",
    "\n",
    "\n",
    "base = \"data\"\n",
    "splits = [\"training\", \"validating\", \"testing\"]\n",
    "categories = [\"cardboard\", \"glass\", \"metal\", \"paper\", \"plastic\", \"trash\"]\n",
    "target_size = 128\n",
    "\n",
    "\n",
    "for split in splits:\n",
    "    for category in categories:\n",
    "        path = os.path.join(base, split, category)\n",
    "        print (path, \"number of items:\", len(os.listdir(path)))"
   ]
  },
  {
   "cell_type": "code",
   "execution_count": 2,
   "metadata": {},
   "outputs": [
    {
     "name": "stdout",
     "output_type": "stream",
     "text": [
      "Model: \"vgg16\"\n",
      "_________________________________________________________________\n",
      "Layer (type)                 Output Shape              Param #   \n",
      "=================================================================\n",
      "input_1 (InputLayer)         [(None, 128, 128, 3)]     0         \n",
      "_________________________________________________________________\n",
      "block1_conv1 (Conv2D)        (None, 128, 128, 64)      1792      \n",
      "_________________________________________________________________\n",
      "block1_conv2 (Conv2D)        (None, 128, 128, 64)      36928     \n",
      "_________________________________________________________________\n",
      "block1_pool (MaxPooling2D)   (None, 64, 64, 64)        0         \n",
      "_________________________________________________________________\n",
      "block2_conv1 (Conv2D)        (None, 64, 64, 128)       73856     \n",
      "_________________________________________________________________\n",
      "block2_conv2 (Conv2D)        (None, 64, 64, 128)       147584    \n",
      "_________________________________________________________________\n",
      "block2_pool (MaxPooling2D)   (None, 32, 32, 128)       0         \n",
      "_________________________________________________________________\n",
      "block3_conv1 (Conv2D)        (None, 32, 32, 256)       295168    \n",
      "_________________________________________________________________\n",
      "block3_conv2 (Conv2D)        (None, 32, 32, 256)       590080    \n",
      "_________________________________________________________________\n",
      "block3_conv3 (Conv2D)        (None, 32, 32, 256)       590080    \n",
      "_________________________________________________________________\n",
      "block3_pool (MaxPooling2D)   (None, 16, 16, 256)       0         \n",
      "_________________________________________________________________\n",
      "block4_conv1 (Conv2D)        (None, 16, 16, 512)       1180160   \n",
      "_________________________________________________________________\n",
      "block4_conv2 (Conv2D)        (None, 16, 16, 512)       2359808   \n",
      "_________________________________________________________________\n",
      "block4_conv3 (Conv2D)        (None, 16, 16, 512)       2359808   \n",
      "_________________________________________________________________\n",
      "block4_pool (MaxPooling2D)   (None, 8, 8, 512)         0         \n",
      "_________________________________________________________________\n",
      "block5_conv1 (Conv2D)        (None, 8, 8, 512)         2359808   \n",
      "_________________________________________________________________\n",
      "block5_conv2 (Conv2D)        (None, 8, 8, 512)         2359808   \n",
      "_________________________________________________________________\n",
      "block5_conv3 (Conv2D)        (None, 8, 8, 512)         2359808   \n",
      "_________________________________________________________________\n",
      "block5_pool (MaxPooling2D)   (None, 4, 4, 512)         0         \n",
      "=================================================================\n",
      "Total params: 14,714,688\n",
      "Trainable params: 14,714,688\n",
      "Non-trainable params: 0\n",
      "_________________________________________________________________\n"
     ]
    }
   ],
   "source": [
    "# import the VGG16 model\n",
    "import numpy as np\n",
    "from keras.applications import VGG16\n",
    "\n",
    "conv_base = VGG16(weights='imagenet',\n",
    "                  include_top=False,\n",
    "                  input_shape=(target_size, target_size, 3))\n",
    "\n",
    "conv_base.summary()"
   ]
  },
  {
   "cell_type": "code",
   "execution_count": 7,
   "metadata": {},
   "outputs": [
    {
     "name": "stdout",
     "output_type": "stream",
     "text": [
      "Found 1164 images belonging to 6 classes.\n",
      "Found 933 images belonging to 6 classes.\n",
      "Found 530 images belonging to 6 classes.\n"
     ]
    }
   ],
   "source": [
    "#load data and extract features\n",
    "from keras.preprocessing.image import ImageDataGenerator\n",
    "\n",
    "datagen = ImageDataGenerator(rescale=1./255)\n",
    "batch_size = 20\n",
    "\n",
    "def extract_features(directory, sample_count):\n",
    "    features = np.zeros(shape=(sample_count, 4, 4, 512))\n",
    "    labels = np.zeros(shape=(sample_count, 6)) #added '6' to fit the number of classes\n",
    "    generator = datagen.flow_from_directory(\n",
    "        directory,\n",
    "        target_size=(target_size, target_size),\n",
    "        batch_size= batch_size,\n",
    "        class_mode='categorical')\n",
    "    i = 0\n",
    "    for inputs_batch, labels_batch in generator:\n",
    "        features_batch = conv_base.predict(inputs_batch)\n",
    "        features[i * batch_size : (i + 1) * batch_size] = features_batch\n",
    "        labels[i * batch_size : (i + 1) * batch_size] = labels_batch\n",
    "        i += 1\n",
    "        if i * batch_size >= sample_count:\n",
    "            # Note that since generators yield data indefinitely in a loop,\n",
    "            # we must `break` after every image has been seen once.\n",
    "            break\n",
    "    return features, labels\n",
    "\n",
    "train_features, train_labels = extract_features(\"data/training\", 1160)#changed to fit sample size\n",
    "validation_features, validation_labels = extract_features(\"data/validating\", 920) #this one too\n",
    "test_features, test_labels = extract_features(\"data/testing\", 520) # and this\n",
    "\n",
    "# reshape\n",
    "train_features = np.reshape(train_features, (1160, 4 * 4 * 512))\n",
    "validation_features = np.reshape(validation_features, (920, 4 * 4 * 512))\n",
    "test_features = np.reshape(test_features, (520, 4 * 4 * 512))"
   ]
  },
  {
   "cell_type": "code",
   "execution_count": 9,
   "metadata": {},
   "outputs": [
    {
     "name": "stdout",
     "output_type": "stream",
     "text": [
      "Model: \"sequential_1\"\n",
      "_________________________________________________________________\n",
      "Layer (type)                 Output Shape              Param #   \n",
      "=================================================================\n",
      "dense_1 (Dense)              (None, 128)               1048704   \n",
      "_________________________________________________________________\n",
      "dropout (Dropout)            (None, 128)               0         \n",
      "_________________________________________________________________\n",
      "dense_2 (Dense)              (None, 6)                 774       \n",
      "=================================================================\n",
      "Total params: 1,049,478\n",
      "Trainable params: 1,049,478\n",
      "Non-trainable params: 0\n",
      "_________________________________________________________________\n"
     ]
    }
   ],
   "source": [
    "# build network and print summary\n",
    "from keras import layers\n",
    "from keras import models\n",
    "from keras import regularizers\n",
    "\n",
    "model = models.Sequential()\n",
    "model.add(layers.Dense(128, kernel_regularizer=regularizers.l2(0.001), activation='relu', input_dim=4*4*512))\n",
    "model.add(layers.Dropout(0.5))\n",
    "model.add(layers.Dense(6, activation='softmax'))\n",
    "\n",
    "model.summary()\n",
    "\n",
    "\n",
    "# add optimizer\n",
    "from keras import optimizers\n",
    "\n",
    "model.compile(loss='categorical_crossentropy',\n",
    "              optimizer=optimizers.RMSprop(lr=1e-4),\n",
    "              metrics=['acc'])"
   ]
  },
  {
   "cell_type": "code",
   "execution_count": 10,
   "metadata": {},
   "outputs": [
    {
     "name": "stdout",
     "output_type": "stream",
     "text": [
      "Epoch 1/30\n",
      "58/58 [==============================] - 3s 49ms/step - loss: 1.7918 - acc: 0.3552 - val_loss: 1.4752 - val_acc: 0.5033\n",
      "Epoch 2/30\n",
      "58/58 [==============================] - 3s 52ms/step - loss: 1.4057 - acc: 0.5362 - val_loss: 1.3007 - val_acc: 0.5783\n",
      "Epoch 3/30\n",
      "58/58 [==============================] - 3s 46ms/step - loss: 1.1942 - acc: 0.6534 - val_loss: 1.2018 - val_acc: 0.6141\n",
      "Epoch 4/30\n",
      "58/58 [==============================] - 3s 45ms/step - loss: 1.0582 - acc: 0.6776 - val_loss: 1.1002 - val_acc: 0.6565\n",
      "Epoch 5/30\n",
      "58/58 [==============================] - 3s 56ms/step - loss: 0.9780 - acc: 0.7026 - val_loss: 1.0916 - val_acc: 0.6304\n",
      "Epoch 6/30\n",
      "58/58 [==============================] - 3s 51ms/step - loss: 0.8854 - acc: 0.7526 - val_loss: 0.9769 - val_acc: 0.7098\n",
      "Epoch 7/30\n",
      "58/58 [==============================] - 3s 57ms/step - loss: 0.8188 - acc: 0.7647 - val_loss: 0.9557 - val_acc: 0.6913\n",
      "Epoch 8/30\n",
      "58/58 [==============================] - 3s 50ms/step - loss: 0.7346 - acc: 0.8052 - val_loss: 0.9393 - val_acc: 0.7120\n",
      "Epoch 9/30\n",
      "58/58 [==============================] - 3s 57ms/step - loss: 0.6992 - acc: 0.8172 - val_loss: 0.9510 - val_acc: 0.7000\n",
      "Epoch 10/30\n",
      "58/58 [==============================] - 3s 54ms/step - loss: 0.6358 - acc: 0.8345 - val_loss: 0.9304 - val_acc: 0.6946\n",
      "Epoch 11/30\n",
      "58/58 [==============================] - 3s 50ms/step - loss: 0.6161 - acc: 0.8397 - val_loss: 0.9252 - val_acc: 0.7065\n",
      "Epoch 12/30\n",
      "58/58 [==============================] - 3s 52ms/step - loss: 0.5745 - acc: 0.8526 - val_loss: 0.9312 - val_acc: 0.7076\n",
      "Epoch 13/30\n",
      "58/58 [==============================] - 4s 61ms/step - loss: 0.5591 - acc: 0.8750 - val_loss: 0.8953 - val_acc: 0.7272\n",
      "Epoch 14/30\n",
      "58/58 [==============================] - 3s 52ms/step - loss: 0.5140 - acc: 0.8922 - val_loss: 0.9791 - val_acc: 0.6859\n",
      "Epoch 15/30\n",
      "58/58 [==============================] - 3s 45ms/step - loss: 0.4955 - acc: 0.8957 - val_loss: 0.9652 - val_acc: 0.7033\n",
      "Epoch 16/30\n",
      "58/58 [==============================] - 3s 55ms/step - loss: 0.4674 - acc: 0.9052 - val_loss: 0.9407 - val_acc: 0.6989\n",
      "Epoch 17/30\n",
      "58/58 [==============================] - 3s 50ms/step - loss: 0.4401 - acc: 0.9086 - val_loss: 0.9858 - val_acc: 0.7022\n",
      "Epoch 18/30\n",
      "58/58 [==============================] - 3s 54ms/step - loss: 0.4385 - acc: 0.9086 - val_loss: 0.8960 - val_acc: 0.7283\n",
      "Epoch 19/30\n",
      "58/58 [==============================] - 4s 61ms/step - loss: 0.4025 - acc: 0.9172 - val_loss: 0.9295 - val_acc: 0.7109\n",
      "Epoch 20/30\n",
      "58/58 [==============================] - 4s 69ms/step - loss: 0.3968 - acc: 0.9190 - val_loss: 0.9246 - val_acc: 0.7239\n",
      "Epoch 21/30\n",
      "58/58 [==============================] - 4s 68ms/step - loss: 0.3797 - acc: 0.9267 - val_loss: 0.8573 - val_acc: 0.7457\n",
      "Epoch 22/30\n",
      "58/58 [==============================] - 3s 60ms/step - loss: 0.3579 - acc: 0.9431 - val_loss: 0.8751 - val_acc: 0.7413\n",
      "Epoch 23/30\n",
      "58/58 [==============================] - 3s 59ms/step - loss: 0.3434 - acc: 0.9379 - val_loss: 0.8548 - val_acc: 0.7533\n",
      "Epoch 24/30\n",
      "58/58 [==============================] - 4s 63ms/step - loss: 0.3395 - acc: 0.9422 - val_loss: 1.0205 - val_acc: 0.6804\n",
      "Epoch 25/30\n",
      "58/58 [==============================] - 4s 61ms/step - loss: 0.3301 - acc: 0.9457 - val_loss: 0.8828 - val_acc: 0.7380\n",
      "Epoch 26/30\n",
      "58/58 [==============================] - 4s 69ms/step - loss: 0.3136 - acc: 0.9500 - val_loss: 0.8962 - val_acc: 0.7435\n",
      "Epoch 27/30\n",
      "58/58 [==============================] - 3s 57ms/step - loss: 0.3003 - acc: 0.9517 - val_loss: 0.8999 - val_acc: 0.7348\n",
      "Epoch 28/30\n",
      "58/58 [==============================] - 3s 57ms/step - loss: 0.2906 - acc: 0.9586 - val_loss: 0.9055 - val_acc: 0.7315\n",
      "Epoch 29/30\n",
      "58/58 [==============================] - 3s 45ms/step - loss: 0.2900 - acc: 0.9629 - val_loss: 0.9372 - val_acc: 0.7185\n",
      "Epoch 30/30\n",
      "58/58 [==============================] - 3s 48ms/step - loss: 0.2699 - acc: 0.9569 - val_loss: 1.0688 - val_acc: 0.6761\n"
     ]
    }
   ],
   "source": [
    "# train and save model\n",
    "history = model.fit(train_features, train_labels,\n",
    "                    epochs=30,\n",
    "                    batch_size=20,\n",
    "                    validation_data=(validation_features, validation_labels))\n",
    "\n",
    "model.save('trash-classifier-0-6.h5')"
   ]
  },
  {
   "cell_type": "code",
   "execution_count": 11,
   "metadata": {},
   "outputs": [
    {
     "data": {
      "image/png": "[encoded data removed]",
      "text/plain": [
       "<Figure size 432x288 with 1 Axes>"
      ]
     },
     "metadata": {
      "needs_background": "light"
     },
     "output_type": "display_data"
    },
    {
     "data": {
      "image/png": "[encoded data removed]",
      "text/plain": [
       "<Figure size 432x288 with 1 Axes>"
      ]
     },
     "metadata": {
      "needs_background": "light"
     },
     "output_type": "display_data"
    }
   ],
   "source": [
    "# plot accuracy and loss graphs\n",
    "import matplotlib.pyplot as plt\n",
    "\n",
    "acc = history.history['acc']\n",
    "val_acc = history.history['val_acc']\n",
    "loss = history.history['loss']\n",
    "val_loss = history.history['val_loss']\n",
    "\n",
    "epochs = range(len(acc))\n",
    "\n",
    "plt.plot(epochs, acc, 'bo', label='Training acc')\n",
    "plt.plot(epochs, val_acc, 'b', label='Validation acc')\n",
    "plt.title('Training and validation accuracy')\n",
    "plt.legend()\n",
    "\n",
    "plt.figure()\n",
    "\n",
    "plt.plot(epochs, loss, 'bo', label='Training loss')\n",
    "plt.plot(epochs, val_loss, 'b', label='Validation loss')\n",
    "plt.title('Training and validation loss')\n",
    "plt.legend()\n",
    "\n",
    "plt.show()"
   ]
  },
  {
   "cell_type": "code",
   "execution_count": null,
   "metadata": {},
   "outputs": [],
   "source": []
  }
 ],
 "metadata": {
  "kernelspec": {
   "display_name": "Python 3",
   "language": "python",
   "name": "python3"
  },
  "language_info": {
   "codemirror_mode": {
    "name": "ipython",
    "version": 3
   },
   "file_extension": ".py",
   "mimetype": "text/x-python",
   "name": "python",
   "nbconvert_exporter": "python",
   "pygments_lexer": "ipython3",
   "version": "3.7.9"
  }
 },
 "nbformat": 4,
 "nbformat_minor": 4
}
