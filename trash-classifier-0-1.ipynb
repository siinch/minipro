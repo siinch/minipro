{
 "cells": [
  {
   "cell_type": "markdown",
   "metadata": {},
   "source": [
    "# Log 0.1\n",
    "1. Downloaded dataset from https://github.com/garythung/trashnet\n",
    "2. Diveded data into approximately train (50%) validate(25%) and test (25%) folders\n",
    "3. Loaded data using flow_from_directory like in cats_and_dogs_example but with class_mode = \"categorical\"\n",
    "4. Built network similar to the one from cats_and_dogs_example, but with less nodes, 6 output nodes and loss='categorical_crossentropy'.\n",
    "5. Trained the model and plotted data similar to cats_and_dogs example\n"
   ]
  },
  {
   "cell_type": "code",
   "execution_count": 1,
   "metadata": {},
   "outputs": [
    {
     "name": "stdout",
     "output_type": "stream",
     "text": [
      "data/training/cardboard number of items: 199\n",
      "data/training/glass number of items: 199\n",
      "data/training/metal number of items: 199\n",
      "data/training/paper number of items: 199\n",
      "data/training/plastic number of items: 299\n",
      "data/training/trash number of items: 69\n",
      "data/validating/cardboard number of items: 104\n",
      "data/validating/glass number of items: 202\n",
      "data/validating/metal number of items: 111\n",
      "data/validating/paper number of items: 295\n",
      "data/validating/plastic number of items: 183\n",
      "data/validating/trash number of items: 38\n",
      "data/testing/cardboard number of items: 100\n",
      "data/testing/glass number of items: 100\n",
      "data/testing/metal number of items: 100\n",
      "data/testing/paper number of items: 100\n",
      "data/testing/plastic number of items: 100\n",
      "data/testing/trash number of items: 30\n"
     ]
    }
   ],
   "source": [
    "# print out data splits for all categories\n",
    "import keras, os, shutil\n",
    "#keras.__version__ 2.4.3\n",
    "\n",
    "\n",
    "base = \"data\"\n",
    "splits = [\"training\", \"validating\", \"testing\"]\n",
    "categories = [\"cardboard\", \"glass\", \"metal\", \"paper\", \"plastic\", \"trash\"]\n",
    "\n",
    "\n",
    "for split in splits:\n",
    "    for category in categories:\n",
    "        path = os.path.join(base, split, category)\n",
    "        print (path, \"number of items:\", len(os.listdir(path)))"
   ]
  },
  {
   "cell_type": "code",
   "execution_count": 2,
   "metadata": {},
   "outputs": [
    {
     "name": "stdout",
     "output_type": "stream",
     "text": [
      "Found 1164 images belonging to 6 classes.\n",
      "Found 933 images belonging to 6 classes.\n",
      "data batch shape: (20, 150, 150, 3)\n",
      "labels batch shape: (20, 6)\n"
     ]
    }
   ],
   "source": [
    "# load data and print batch details\n",
    "from keras.preprocessing.image import ImageDataGenerator\n",
    "\n",
    "train_generator = ImageDataGenerator(rescale=1./255).flow_from_directory(\n",
    "        # This is the target directory\n",
    "        \"data/training\",\n",
    "        # All images will be resized to 150x150\n",
    "        target_size=(150, 150),\n",
    "        batch_size=20,\n",
    "        # Since we use binary_crossentropy loss, we need binary labels\n",
    "        class_mode='categorical')\n",
    "\n",
    "validation_generator = ImageDataGenerator(rescale=1./255).flow_from_directory(\n",
    "        \"data/validating\",\n",
    "        target_size=(150, 150),\n",
    "        batch_size=20,\n",
    "        class_mode='categorical')\n",
    "\n",
    "for data_batch, labels_batch in train_generator:\n",
    "    print('data batch shape:', data_batch.shape)\n",
    "    print('labels batch shape:', labels_batch.shape)\n",
    "    break"
   ]
  },
  {
   "cell_type": "code",
   "execution_count": 3,
   "metadata": {},
   "outputs": [
    {
     "name": "stdout",
     "output_type": "stream",
     "text": [
      "Model: \"sequential\"\n",
      "_________________________________________________________________\n",
      "Layer (type)                 Output Shape              Param #   \n",
      "=================================================================\n",
      "conv2d (Conv2D)              (None, 148, 148, 32)      896       \n",
      "_________________________________________________________________\n",
      "max_pooling2d (MaxPooling2D) (None, 74, 74, 32)        0         \n",
      "_________________________________________________________________\n",
      "conv2d_1 (Conv2D)            (None, 72, 72, 16)        4624      \n",
      "_________________________________________________________________\n",
      "max_pooling2d_1 (MaxPooling2 (None, 36, 36, 16)        0         \n",
      "_________________________________________________________________\n",
      "conv2d_2 (Conv2D)            (None, 34, 34, 32)        4640      \n",
      "_________________________________________________________________\n",
      "max_pooling2d_2 (MaxPooling2 (None, 17, 17, 32)        0         \n",
      "_________________________________________________________________\n",
      "conv2d_3 (Conv2D)            (None, 15, 15, 32)        9248      \n",
      "_________________________________________________________________\n",
      "max_pooling2d_3 (MaxPooling2 (None, 7, 7, 32)          0         \n",
      "_________________________________________________________________\n",
      "flatten (Flatten)            (None, 1568)              0         \n",
      "_________________________________________________________________\n",
      "dense (Dense)                (None, 128)               200832    \n",
      "_________________________________________________________________\n",
      "dense_1 (Dense)              (None, 6)                 774       \n",
      "=================================================================\n",
      "Total params: 221,014\n",
      "Trainable params: 221,014\n",
      "Non-trainable params: 0\n",
      "_________________________________________________________________\n"
     ]
    }
   ],
   "source": [
    "# build network and print summary\n",
    "from keras import layers\n",
    "from keras import models\n",
    "\n",
    "model = models.Sequential()\n",
    "model.add(layers.Conv2D(32, (3, 3), activation='relu',\n",
    "                        input_shape=(150, 150, 3)))\n",
    "model.add(layers.MaxPooling2D((2, 2)))\n",
    "model.add(layers.Conv2D(16, (3, 3), activation='relu'))\n",
    "model.add(layers.MaxPooling2D((2, 2)))\n",
    "model.add(layers.Conv2D(32, (3, 3), activation='relu'))\n",
    "model.add(layers.MaxPooling2D((2, 2)))\n",
    "model.add(layers.Conv2D(32, (3, 3), activation='relu'))\n",
    "model.add(layers.MaxPooling2D((2, 2)))\n",
    "model.add(layers.Flatten())\n",
    "model.add(layers.Dense(128, activation='relu'))\n",
    "model.add(layers.Dense(6, activation='sigmoid'))\n",
    "\n",
    "model.summary()\n",
    "\n",
    "\n",
    "# add optimizer\n",
    "from keras import optimizers\n",
    "\n",
    "model.compile(loss='categorical_crossentropy',\n",
    "              optimizer=optimizers.RMSprop(lr=1e-4),\n",
    "              metrics=['acc'])"
   ]
  },
  {
   "cell_type": "code",
   "execution_count": 4,
   "metadata": {},
   "outputs": [
    {
     "name": "stdout",
     "output_type": "stream",
     "text": [
      "WARNING:tensorflow:From <ipython-input-4-2f85a393ac5c>:7: Model.fit_generator (from tensorflow.python.keras.engine.training) is deprecated and will be removed in a future version.\n",
      "Instructions for updating:\n",
      "Please use Model.fit, which supports generators.\n",
      "Epoch 1/30\n",
      "100/100 [==============================] - 39s 391ms/step - loss: 1.7086 - acc: 0.2747 - val_loss: 1.6479 - val_acc: 0.3031\n",
      "Epoch 2/30\n",
      "100/100 [==============================] - 42s 420ms/step - loss: 1.5991 - acc: 0.3791 - val_loss: 1.5375 - val_acc: 0.3142\n",
      "Epoch 3/30\n",
      "100/100 [==============================] - 42s 420ms/step - loss: 1.5285 - acc: 0.4019 - val_loss: 1.4626 - val_acc: 0.3656\n",
      "Epoch 4/30\n",
      "100/100 [==============================] - 42s 418ms/step - loss: 1.4389 - acc: 0.4410 - val_loss: 1.3891 - val_acc: 0.4119\n",
      "Epoch 5/30\n",
      "100/100 [==============================] - 44s 438ms/step - loss: 1.3832 - acc: 0.4466 - val_loss: 1.3022 - val_acc: 0.4914\n",
      "Epoch 6/30\n",
      "100/100 [==============================] - 41s 413ms/step - loss: 1.3271 - acc: 0.4909 - val_loss: 1.3254 - val_acc: 0.4512\n",
      "Epoch 7/30\n",
      "100/100 [==============================] - 43s 431ms/step - loss: 1.2922 - acc: 0.5000 - val_loss: 1.4238 - val_acc: 0.4129\n",
      "Epoch 8/30\n",
      "100/100 [==============================] - 43s 433ms/step - loss: 1.2896 - acc: 0.4980 - val_loss: 1.3842 - val_acc: 0.4169\n",
      "Epoch 9/30\n",
      "100/100 [==============================] - 43s 432ms/step - loss: 1.2354 - acc: 0.5208 - val_loss: 1.2840 - val_acc: 0.4491\n",
      "Epoch 10/30\n",
      "100/100 [==============================] - 44s 439ms/step - loss: 1.2175 - acc: 0.5222 - val_loss: 1.2768 - val_acc: 0.4582\n",
      "Epoch 11/30\n",
      "100/100 [==============================] - 44s 443ms/step - loss: 1.1995 - acc: 0.5346 - val_loss: 1.2575 - val_acc: 0.4632\n",
      "Epoch 12/30\n",
      "100/100 [==============================] - 43s 428ms/step - loss: 1.1680 - acc: 0.5437 - val_loss: 1.2533 - val_acc: 0.4899\n",
      "Epoch 13/30\n",
      "100/100 [==============================] - 43s 430ms/step - loss: 1.1442 - acc: 0.5534 - val_loss: 1.2240 - val_acc: 0.4884\n",
      "Epoch 14/30\n",
      "100/100 [==============================] - 42s 420ms/step - loss: 1.1180 - acc: 0.5640 - val_loss: 1.2883 - val_acc: 0.4693\n",
      "Epoch 15/30\n",
      "100/100 [==============================] - 42s 424ms/step - loss: 1.0886 - acc: 0.5752 - val_loss: 1.3104 - val_acc: 0.4632\n",
      "Epoch 16/30\n",
      "100/100 [==============================] - 45s 450ms/step - loss: 1.0804 - acc: 0.5859 - val_loss: 1.1830 - val_acc: 0.5166\n",
      "Epoch 17/30\n",
      "100/100 [==============================] - 45s 446ms/step - loss: 1.0494 - acc: 0.5822 - val_loss: 1.2389 - val_acc: 0.5247\n",
      "Epoch 18/30\n",
      "100/100 [==============================] - 44s 444ms/step - loss: 1.0105 - acc: 0.6052 - val_loss: 1.3292 - val_acc: 0.4703\n",
      "Epoch 19/30\n",
      "100/100 [==============================] - 43s 432ms/step - loss: 1.0194 - acc: 0.6032 - val_loss: 1.1460 - val_acc: 0.5619\n",
      "Epoch 20/30\n",
      "100/100 [==============================] - 43s 427ms/step - loss: 0.9817 - acc: 0.6139 - val_loss: 1.2494 - val_acc: 0.4955\n",
      "Epoch 21/30\n",
      "100/100 [==============================] - 43s 434ms/step - loss: 0.9864 - acc: 0.6118 - val_loss: 1.1816 - val_acc: 0.5549\n",
      "Epoch 22/30\n",
      "100/100 [==============================] - 44s 441ms/step - loss: 0.9269 - acc: 0.6524 - val_loss: 1.2173 - val_acc: 0.5186\n",
      "Epoch 23/30\n",
      "100/100 [==============================] - 44s 435ms/step - loss: 0.9308 - acc: 0.6387 - val_loss: 1.4822 - val_acc: 0.4441\n",
      "Epoch 24/30\n",
      "100/100 [==============================] - 46s 458ms/step - loss: 0.9080 - acc: 0.6436 - val_loss: 1.2366 - val_acc: 0.5365\n",
      "Epoch 25/30\n",
      "100/100 [==============================] - 44s 444ms/step - loss: 0.8905 - acc: 0.6540 - val_loss: 1.2438 - val_acc: 0.5106\n",
      "Epoch 26/30\n",
      "100/100 [==============================] - 46s 459ms/step - loss: 0.8647 - acc: 0.6712 - val_loss: 1.2802 - val_acc: 0.5307\n",
      "Epoch 27/30\n",
      "100/100 [==============================] - 44s 444ms/step - loss: 0.8541 - acc: 0.6804 - val_loss: 1.3390 - val_acc: 0.4955\n",
      "Epoch 28/30\n",
      "100/100 [==============================] - 44s 438ms/step - loss: 0.8256 - acc: 0.6860 - val_loss: 1.2634 - val_acc: 0.5388\n",
      "Epoch 29/30\n",
      "100/100 [==============================] - 44s 444ms/step - loss: 0.8169 - acc: 0.6936 - val_loss: 1.1593 - val_acc: 0.5760\n",
      "Epoch 30/30\n",
      "100/100 [==============================] - 45s 449ms/step - loss: 0.7945 - acc: 0.7011 - val_loss: 1.1549 - val_acc: 0.5851\n"
     ]
    }
   ],
   "source": [
    "# train and save model\n",
    "history = model.fit_generator(\n",
    "      train_generator,\n",
    "      steps_per_epoch=100,\n",
    "      epochs=30,\n",
    "      validation_data=validation_generator,\n",
    "      validation_steps=50)\n",
    "\n",
    "model.save('trash-classifier-0-1.h5')"
   ]
  },
  {
   "cell_type": "code",
   "execution_count": 5,
   "metadata": {},
   "outputs": [
    {
     "data": {
      "image/png": "[encoded data removed]",
      "text/plain": [
       "<Figure size 432x288 with 1 Axes>"
      ]
     },
     "metadata": {
      "needs_background": "light"
     },
     "output_type": "display_data"
    },
    {
     "data": {
      "image/png": "[encoded data removed]",
      "text/plain": [
       "<Figure size 432x288 with 1 Axes>"
      ]
     },
     "metadata": {
      "needs_background": "light"
     },
     "output_type": "display_data"
    }
   ],
   "source": [
    "# plot accuracy and loss graphs\n",
    "import matplotlib.pyplot as plt\n",
    "\n",
    "acc = history.history['acc']\n",
    "val_acc = history.history['val_acc']\n",
    "loss = history.history['loss']\n",
    "val_loss = history.history['val_loss']\n",
    "\n",
    "epochs = range(len(acc))\n",
    "\n",
    "plt.plot(epochs, acc, 'bo', label='Training acc')\n",
    "plt.plot(epochs, val_acc, 'b', label='Validation acc')\n",
    "plt.title('Training and validation accuracy')\n",
    "plt.legend()\n",
    "\n",
    "plt.figure()\n",
    "\n",
    "plt.plot(epochs, loss, 'bo', label='Training loss')\n",
    "plt.plot(epochs, val_loss, 'b', label='Validation loss')\n",
    "plt.title('Training and validation loss')\n",
    "plt.legend()\n",
    "\n",
    "plt.show()"
   ]
  }
 ],
 "metadata": {
  "kernelspec": {
   "display_name": "Python 3",
   "language": "python",
   "name": "python3"
  },
  "language_info": {
   "codemirror_mode": {
    "name": "ipython",
    "version": 3
   },
   "file_extension": ".py",
   "mimetype": "text/x-python",
   "name": "python",
   "nbconvert_exporter": "python",
   "pygments_lexer": "ipython3",
   "version": "3.7.9"
  }
 },
 "nbformat": 4,
 "nbformat_minor": 4
}
