{
 "cells": [
  {
   "cell_type": "markdown",
   "metadata": {},
   "source": [
    "# Log 0.5\n",
    "1. Trying 128x128 images instead of 64x64 because of lower accuracy\n",
    "2. longer training 50 epochs instead of 30\n",
    "3. some overtraining, but higher accuracy a(t) ~ 0.7, a(v) ~ 0.6 and loss l(t) ~ 1.0, l(v) ~ 1.2\n",
    "4. Idea: try pretrained covnets\n"
   ]
  },
  {
   "cell_type": "code",
   "execution_count": 1,
   "metadata": {},
   "outputs": [
    {
     "name": "stdout",
     "output_type": "stream",
     "text": [
      "data/training/cardboard number of items: 199\n",
      "data/training/glass number of items: 199\n",
      "data/training/metal number of items: 199\n",
      "data/training/paper number of items: 199\n",
      "data/training/plastic number of items: 299\n",
      "data/training/trash number of items: 69\n",
      "data/validating/cardboard number of items: 104\n",
      "data/validating/glass number of items: 202\n",
      "data/validating/metal number of items: 111\n",
      "data/validating/paper number of items: 295\n",
      "data/validating/plastic number of items: 183\n",
      "data/validating/trash number of items: 38\n",
      "data/testing/cardboard number of items: 100\n",
      "data/testing/glass number of items: 100\n",
      "data/testing/metal number of items: 100\n",
      "data/testing/paper number of items: 100\n",
      "data/testing/plastic number of items: 100\n",
      "data/testing/trash number of items: 30\n"
     ]
    }
   ],
   "source": [
    "# print out data splits for all categories\n",
    "import keras, os, shutil\n",
    "#keras.__version__ 2.4.3\n",
    "\n",
    "\n",
    "base = \"data\"\n",
    "splits = [\"training\", \"validating\", \"testing\"]\n",
    "categories = [\"cardboard\", \"glass\", \"metal\", \"paper\", \"plastic\", \"trash\"]\n",
    "\n",
    "\n",
    "for split in splits:\n",
    "    for category in categories:\n",
    "        path = os.path.join(base, split, category)\n",
    "        print (path, \"number of items:\", len(os.listdir(path)))"
   ]
  },
  {
   "cell_type": "code",
   "execution_count": 2,
   "metadata": {},
   "outputs": [
    {
     "name": "stdout",
     "output_type": "stream",
     "text": [
      "Found 1164 images belonging to 6 classes.\n",
      "Found 933 images belonging to 6 classes.\n",
      "data batch shape: (20, 128, 128, 3)\n",
      "labels batch shape: (20, 6)\n"
     ]
    }
   ],
   "source": [
    "# load data and print batch details\n",
    "from keras.preprocessing.image import ImageDataGenerator\n",
    "\n",
    "train_generator = ImageDataGenerator(rescale=1./255).flow_from_directory(\n",
    "        # This is the target directory\n",
    "        \"data/training\",\n",
    "        # image size\n",
    "        target_size=(128, 128),\n",
    "        batch_size=20,\n",
    "        class_mode='categorical')\n",
    "\n",
    "validation_generator = ImageDataGenerator(rescale=1./255).flow_from_directory(\n",
    "        \"data/validating\",\n",
    "        target_size=(128, 128),\n",
    "        batch_size=20,\n",
    "        class_mode='categorical')\n",
    "\n",
    "for data_batch, labels_batch in train_generator:\n",
    "    print('data batch shape:', data_batch.shape)\n",
    "    print('labels batch shape:', labels_batch.shape)\n",
    "    break"
   ]
  },
  {
   "cell_type": "code",
   "execution_count": 3,
   "metadata": {},
   "outputs": [
    {
     "name": "stdout",
     "output_type": "stream",
     "text": [
      "Model: \"sequential\"\n",
      "_________________________________________________________________\n",
      "Layer (type)                 Output Shape              Param #   \n",
      "=================================================================\n",
      "conv2d (Conv2D)              (None, 126, 126, 32)      896       \n",
      "_________________________________________________________________\n",
      "max_pooling2d (MaxPooling2D) (None, 63, 63, 32)        0         \n",
      "_________________________________________________________________\n",
      "conv2d_1 (Conv2D)            (None, 61, 61, 16)        4624      \n",
      "_________________________________________________________________\n",
      "max_pooling2d_1 (MaxPooling2 (None, 30, 30, 16)        0         \n",
      "_________________________________________________________________\n",
      "conv2d_2 (Conv2D)            (None, 28, 28, 32)        4640      \n",
      "_________________________________________________________________\n",
      "max_pooling2d_2 (MaxPooling2 (None, 14, 14, 32)        0         \n",
      "_________________________________________________________________\n",
      "conv2d_3 (Conv2D)            (None, 12, 12, 32)        9248      \n",
      "_________________________________________________________________\n",
      "max_pooling2d_3 (MaxPooling2 (None, 6, 6, 32)          0         \n",
      "_________________________________________________________________\n",
      "flatten (Flatten)            (None, 1152)              0         \n",
      "_________________________________________________________________\n",
      "dropout (Dropout)            (None, 1152)              0         \n",
      "_________________________________________________________________\n",
      "dense (Dense)                (None, 128)               147584    \n",
      "_________________________________________________________________\n",
      "dense_1 (Dense)              (None, 6)                 774       \n",
      "=================================================================\n",
      "Total params: 167,766\n",
      "Trainable params: 167,766\n",
      "Non-trainable params: 0\n",
      "_________________________________________________________________\n"
     ]
    }
   ],
   "source": [
    "# build network and print summary\n",
    "from keras import layers\n",
    "from keras import models\n",
    "from keras import regularizers\n",
    "\n",
    "model = models.Sequential()\n",
    "model.add(layers.Conv2D(32, (3, 3), activation='relu',\n",
    "                        input_shape=(128, 128, 3)))\n",
    "model.add(layers.MaxPooling2D((2, 2)))\n",
    "model.add(layers.Conv2D(16, (3, 3), activation='relu'))\n",
    "model.add(layers.MaxPooling2D((2, 2)))\n",
    "model.add(layers.Conv2D(32, (3, 3), activation='relu'))\n",
    "model.add(layers.MaxPooling2D((2, 2)))\n",
    "model.add(layers.Conv2D(32, (3, 3), activation='relu'))\n",
    "model.add(layers.MaxPooling2D((2, 2)))\n",
    "model.add(layers.Flatten())\n",
    "model.add(layers.Dropout(0.5))\n",
    "model.add(layers.Dense(128, kernel_regularizer=regularizers.l2(0.001), activation='relu'))\n",
    "model.add(layers.Dense(6, activation='softmax'))\n",
    "\n",
    "model.summary()\n",
    "\n",
    "\n",
    "# add optimizer\n",
    "from keras import optimizers\n",
    "\n",
    "model.compile(loss='categorical_crossentropy',\n",
    "              optimizer=optimizers.RMSprop(lr=1e-4),\n",
    "              metrics=['acc'])"
   ]
  },
  {
   "cell_type": "code",
   "execution_count": 4,
   "metadata": {},
   "outputs": [
    {
     "name": "stdout",
     "output_type": "stream",
     "text": [
      "WARNING:tensorflow:From <ipython-input-4-0b710746cc65>:7: Model.fit_generator (from tensorflow.python.keras.engine.training) is deprecated and will be removed in a future version.\n",
      "Instructions for updating:\n",
      "Please use Model.fit, which supports generators.\n",
      "Epoch 1/50\n",
      "100/100 [==============================] - 34s 337ms/step - loss: 1.9366 - acc: 0.2500 - val_loss: 1.8928 - val_acc: 0.1964\n",
      "Epoch 2/50\n",
      "100/100 [==============================] - 34s 339ms/step - loss: 1.8621 - acc: 0.2967 - val_loss: 1.7878 - val_acc: 0.2981\n",
      "Epoch 3/50\n",
      "100/100 [==============================] - 34s 341ms/step - loss: 1.7616 - acc: 0.3532 - val_loss: 1.6860 - val_acc: 0.3656\n",
      "Epoch 4/50\n",
      "100/100 [==============================] - 36s 357ms/step - loss: 1.7018 - acc: 0.3800 - val_loss: 1.6456 - val_acc: 0.3706\n",
      "Epoch 5/50\n",
      "100/100 [==============================] - 34s 340ms/step - loss: 1.6739 - acc: 0.3852 - val_loss: 1.6683 - val_acc: 0.3968\n",
      "Epoch 6/50\n",
      "100/100 [==============================] - 36s 355ms/step - loss: 1.6482 - acc: 0.4014 - val_loss: 1.6002 - val_acc: 0.3736\n",
      "Epoch 7/50\n",
      "100/100 [==============================] - 38s 379ms/step - loss: 1.6020 - acc: 0.4032 - val_loss: 1.5789 - val_acc: 0.4109\n",
      "Epoch 8/50\n",
      "100/100 [==============================] - 36s 355ms/step - loss: 1.5710 - acc: 0.4345 - val_loss: 1.5383 - val_acc: 0.4089\n",
      "Epoch 9/50\n",
      "100/100 [==============================] - 38s 375ms/step - loss: 1.5279 - acc: 0.4482 - val_loss: 1.4902 - val_acc: 0.4381\n",
      "Epoch 10/50\n",
      "100/100 [==============================] - 38s 381ms/step - loss: 1.4804 - acc: 0.4743 - val_loss: 1.4842 - val_acc: 0.4401\n",
      "Epoch 11/50\n",
      "100/100 [==============================] - 38s 378ms/step - loss: 1.4629 - acc: 0.4685 - val_loss: 1.4804 - val_acc: 0.4401\n",
      "Epoch 12/50\n",
      "100/100 [==============================] - 37s 367ms/step - loss: 1.4393 - acc: 0.4746 - val_loss: 1.4143 - val_acc: 0.4746\n",
      "Epoch 13/50\n",
      "100/100 [==============================] - 39s 390ms/step - loss: 1.4184 - acc: 0.4934 - val_loss: 1.4763 - val_acc: 0.4340\n",
      "Epoch 14/50\n",
      "100/100 [==============================] - 38s 377ms/step - loss: 1.3973 - acc: 0.5136 - val_loss: 1.4319 - val_acc: 0.4401\n",
      "Epoch 15/50\n",
      "100/100 [==============================] - 38s 385ms/step - loss: 1.3760 - acc: 0.5127 - val_loss: 1.3920 - val_acc: 0.4653\n",
      "Epoch 16/50\n",
      "100/100 [==============================] - 36s 356ms/step - loss: 1.3539 - acc: 0.5056 - val_loss: 1.4493 - val_acc: 0.4572\n",
      "Epoch 17/50\n",
      "100/100 [==============================] - 36s 357ms/step - loss: 1.3541 - acc: 0.5010 - val_loss: 1.3781 - val_acc: 0.4693\n",
      "Epoch 18/50\n",
      "100/100 [==============================] - 35s 349ms/step - loss: 1.3179 - acc: 0.5264 - val_loss: 1.3942 - val_acc: 0.4582\n",
      "Epoch 19/50\n",
      "100/100 [==============================] - 38s 375ms/step - loss: 1.2998 - acc: 0.5412 - val_loss: 1.3460 - val_acc: 0.4814\n",
      "Epoch 20/50\n",
      "100/100 [==============================] - 36s 359ms/step - loss: 1.2933 - acc: 0.5373 - val_loss: 1.3939 - val_acc: 0.4653\n",
      "Epoch 21/50\n",
      "100/100 [==============================] - 36s 363ms/step - loss: 1.2796 - acc: 0.5386 - val_loss: 1.3794 - val_acc: 0.4602\n",
      "Epoch 22/50\n",
      "100/100 [==============================] - 37s 368ms/step - loss: 1.2511 - acc: 0.5595 - val_loss: 1.2854 - val_acc: 0.5247\n",
      "Epoch 23/50\n",
      "100/100 [==============================] - 39s 392ms/step - loss: 1.2549 - acc: 0.5574 - val_loss: 1.3637 - val_acc: 0.4854\n",
      "Epoch 24/50\n",
      "100/100 [==============================] - 38s 380ms/step - loss: 1.2253 - acc: 0.5655 - val_loss: 1.2909 - val_acc: 0.5183\n",
      "Epoch 25/50\n",
      "100/100 [==============================] - 36s 357ms/step - loss: 1.2156 - acc: 0.5711 - val_loss: 1.3086 - val_acc: 0.5156\n",
      "Epoch 26/50\n",
      "100/100 [==============================] - 36s 361ms/step - loss: 1.2103 - acc: 0.5752 - val_loss: 1.3639 - val_acc: 0.5015\n",
      "Epoch 27/50\n",
      "100/100 [==============================] - 37s 374ms/step - loss: 1.2008 - acc: 0.5721 - val_loss: 1.3246 - val_acc: 0.5267\n",
      "Epoch 28/50\n",
      "100/100 [==============================] - 36s 363ms/step - loss: 1.1711 - acc: 0.5889 - val_loss: 1.2830 - val_acc: 0.5478\n",
      "Epoch 29/50\n",
      "100/100 [==============================] - 39s 385ms/step - loss: 1.1672 - acc: 0.5925 - val_loss: 1.3875 - val_acc: 0.4945\n",
      "Epoch 30/50\n",
      "100/100 [==============================] - 38s 381ms/step - loss: 1.1380 - acc: 0.6074 - val_loss: 1.2735 - val_acc: 0.5680\n",
      "Epoch 31/50\n",
      "100/100 [==============================] - 35s 352ms/step - loss: 1.1425 - acc: 0.5960 - val_loss: 1.2760 - val_acc: 0.5448\n",
      "Epoch 32/50\n",
      "100/100 [==============================] - 38s 383ms/step - loss: 1.1501 - acc: 0.6092 - val_loss: 1.2278 - val_acc: 0.5811\n",
      "Epoch 33/50\n",
      "100/100 [==============================] - 39s 388ms/step - loss: 1.1029 - acc: 0.6215 - val_loss: 1.2865 - val_acc: 0.5539\n",
      "Epoch 34/50\n",
      "100/100 [==============================] - 37s 369ms/step - loss: 1.1084 - acc: 0.6331 - val_loss: 1.2661 - val_acc: 0.5660\n",
      "Epoch 35/50\n",
      "100/100 [==============================] - 36s 357ms/step - loss: 1.0825 - acc: 0.6321 - val_loss: 1.2310 - val_acc: 0.5831\n",
      "Epoch 36/50\n",
      "100/100 [==============================] - 39s 386ms/step - loss: 1.0690 - acc: 0.6423 - val_loss: 1.2230 - val_acc: 0.5771\n",
      "Epoch 37/50\n",
      "100/100 [==============================] - 40s 397ms/step - loss: 1.0653 - acc: 0.6250 - val_loss: 1.1999 - val_acc: 0.5871\n",
      "Epoch 38/50\n",
      "100/100 [==============================] - 37s 370ms/step - loss: 1.0497 - acc: 0.6489 - val_loss: 1.2253 - val_acc: 0.5791\n",
      "Epoch 39/50\n",
      "100/100 [==============================] - 36s 364ms/step - loss: 1.0569 - acc: 0.6524 - val_loss: 1.2243 - val_acc: 0.5972\n",
      "Epoch 40/50\n",
      "100/100 [==============================] - 36s 360ms/step - loss: 1.0567 - acc: 0.6447 - val_loss: 1.2810 - val_acc: 0.5559\n",
      "Epoch 41/50\n",
      "100/100 [==============================] - 37s 371ms/step - loss: 1.0223 - acc: 0.6555 - val_loss: 1.3116 - val_acc: 0.5478\n",
      "Epoch 42/50\n",
      "100/100 [==============================] - 36s 362ms/step - loss: 1.0335 - acc: 0.6535 - val_loss: 1.1960 - val_acc: 0.5972\n",
      "Epoch 43/50\n",
      "100/100 [==============================] - 36s 362ms/step - loss: 1.0073 - acc: 0.6673 - val_loss: 1.1732 - val_acc: 0.6022\n",
      "Epoch 44/50\n",
      "100/100 [==============================] - 37s 372ms/step - loss: 0.9773 - acc: 0.6804 - val_loss: 1.2653 - val_acc: 0.5871\n",
      "Epoch 45/50\n",
      "100/100 [==============================] - 38s 383ms/step - loss: 0.9694 - acc: 0.6697 - val_loss: 1.1586 - val_acc: 0.6244\n",
      "Epoch 46/50\n",
      "100/100 [==============================] - 35s 346ms/step - loss: 0.9751 - acc: 0.6930 - val_loss: 1.2891 - val_acc: 0.5821\n",
      "Epoch 47/50\n",
      "100/100 [==============================] - 38s 378ms/step - loss: 0.9706 - acc: 0.6733 - val_loss: 1.2411 - val_acc: 0.5851\n",
      "Epoch 48/50\n",
      "100/100 [==============================] - 39s 386ms/step - loss: 0.9590 - acc: 0.6977 - val_loss: 1.1836 - val_acc: 0.6073\n",
      "Epoch 49/50\n",
      "100/100 [==============================] - 40s 400ms/step - loss: 0.9133 - acc: 0.7033 - val_loss: 1.1950 - val_acc: 0.6012\n",
      "Epoch 50/50\n",
      "100/100 [==============================] - 38s 376ms/step - loss: 0.9503 - acc: 0.7001 - val_loss: 1.1674 - val_acc: 0.6133\n"
     ]
    }
   ],
   "source": [
    "# train and save model\n",
    "history = model.fit_generator(\n",
    "      train_generator,\n",
    "      steps_per_epoch=100,\n",
    "      epochs=50,\n",
    "      validation_data=validation_generator,\n",
    "      validation_steps=50)\n",
    "\n",
    "model.save('trash-classifier-0-5.h5')"
   ]
  },
  {
   "cell_type": "code",
   "execution_count": 5,
   "metadata": {},
   "outputs": [
    {
     "data": {
      "image/png": "[encoded data removed]",
      "text/plain": [
       "<Figure size 432x288 with 1 Axes>"
      ]
     },
     "metadata": {
      "needs_background": "light"
     },
     "output_type": "display_data"
    },
    {
     "data": {
      "image/png": "[encoded data removed]",
      "text/plain": [
       "<Figure size 432x288 with 1 Axes>"
      ]
     },
     "metadata": {
      "needs_background": "light"
     },
     "output_type": "display_data"
    }
   ],
   "source": [
    "# plot accuracy and loss graphs\n",
    "import matplotlib.pyplot as plt\n",
    "\n",
    "acc = history.history['acc']\n",
    "val_acc = history.history['val_acc']\n",
    "loss = history.history['loss']\n",
    "val_loss = history.history['val_loss']\n",
    "\n",
    "epochs = range(len(acc))\n",
    "\n",
    "plt.plot(epochs, acc, 'bo', label='Training acc')\n",
    "plt.plot(epochs, val_acc, 'b', label='Validation acc')\n",
    "plt.title('Training and validation accuracy')\n",
    "plt.legend()\n",
    "\n",
    "plt.figure()\n",
    "\n",
    "plt.plot(epochs, loss, 'bo', label='Training loss')\n",
    "plt.plot(epochs, val_loss, 'b', label='Validation loss')\n",
    "plt.title('Training and validation loss')\n",
    "plt.legend()\n",
    "\n",
    "plt.show()"
   ]
  }
 ],
 "metadata": {
  "kernelspec": {
   "display_name": "Python 3",
   "language": "python",
   "name": "python3"
  },
  "language_info": {
   "codemirror_mode": {
    "name": "ipython",
    "version": 3
   },
   "file_extension": ".py",
   "mimetype": "text/x-python",
   "name": "python",
   "nbconvert_exporter": "python",
   "pygments_lexer": "ipython3",
   "version": "3.7.9"
  }
 },
 "nbformat": 4,
 "nbformat_minor": 4
}
