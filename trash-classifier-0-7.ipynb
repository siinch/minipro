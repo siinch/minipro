{
 "cells": [
  {
   "cell_type": "markdown",
   "metadata": {},
   "source": [
    "# Log 0.7\n",
    "1. Using loaded features and labels, instead of extracting features every time.\n",
    "2. Added more dense and dropout layers  before the output layer\n",
    "3. Poor results, but little overtraining, accuracy a(t) ~ 0.35, a(v) ~ 0.5 and loss l(t) ~ 1.6, l(v) ~ 1.6\n",
    "4. Idea: train for many for epochs, maybe 100\n"
   ]
  },
  {
   "cell_type": "code",
   "execution_count": 1,
   "metadata": {},
   "outputs": [],
   "source": [
    "# load features and labels\n",
    "import keras\n",
    "#keras.__version__ 2.4.3\n",
    "import numpy as np\n",
    "\n",
    "train_features = np.load(\"saved_train_features.npy\");\n",
    "validation_features = np.load(\"saved_validation_features.npy\");\n",
    "test_features = np.load(\"saved_test_features.npy\");\n",
    "train_labels = np.load(\"saved_train_labels.npy\");\n",
    "validation_labels = np.load(\"saved_validation_labels.npy\");\n",
    "test_labels = np.load(\"saved_test_labels.npy\");\n"
   ]
  },
  {
   "cell_type": "code",
   "execution_count": 2,
   "metadata": {},
   "outputs": [
    {
     "name": "stdout",
     "output_type": "stream",
     "text": [
      "Model: \"sequential\"\n",
      "_________________________________________________________________\n",
      "Layer (type)                 Output Shape              Param #   \n",
      "=================================================================\n",
      "dense (Dense)                (None, 128)               1048704   \n",
      "_________________________________________________________________\n",
      "dropout (Dropout)            (None, 128)               0         \n",
      "_________________________________________________________________\n",
      "dense_1 (Dense)              (None, 128)               16512     \n",
      "_________________________________________________________________\n",
      "dropout_1 (Dropout)          (None, 128)               0         \n",
      "_________________________________________________________________\n",
      "dense_2 (Dense)              (None, 64)                8256      \n",
      "_________________________________________________________________\n",
      "dropout_2 (Dropout)          (None, 64)                0         \n",
      "_________________________________________________________________\n",
      "dense_3 (Dense)              (None, 32)                2080      \n",
      "_________________________________________________________________\n",
      "dropout_3 (Dropout)          (None, 32)                0         \n",
      "_________________________________________________________________\n",
      "dense_4 (Dense)              (None, 16)                528       \n",
      "_________________________________________________________________\n",
      "dense_5 (Dense)              (None, 6)                 102       \n",
      "=================================================================\n",
      "Total params: 1,076,182\n",
      "Trainable params: 1,076,182\n",
      "Non-trainable params: 0\n",
      "_________________________________________________________________\n"
     ]
    }
   ],
   "source": [
    "# build network and print summary\n",
    "from keras import layers\n",
    "from keras import models\n",
    "from keras import regularizers\n",
    "\n",
    "model = models.Sequential()\n",
    "model.add(layers.Dense(128, kernel_regularizer=regularizers.l2(0.001), activation='relu', input_dim=4*4*512))\n",
    "model.add(layers.Dropout(0.5))\n",
    "model.add(layers.Dense(128, kernel_regularizer=regularizers.l2(0.001), activation='relu'))\n",
    "model.add(layers.Dropout(0.5))\n",
    "model.add(layers.Dense(64, kernel_regularizer=regularizers.l2(0.001), activation='relu'))\n",
    "model.add(layers.Dropout(0.5))\n",
    "model.add(layers.Dense(32, kernel_regularizer=regularizers.l2(0.001), activation='relu'))\n",
    "model.add(layers.Dropout(0.5))\n",
    "model.add(layers.Dense(16, kernel_regularizer=regularizers.l2(0.001), activation='relu'))\n",
    "model.add(layers.Dense(6, activation='softmax'))\n",
    "\n",
    "model.summary()\n",
    "\n",
    "\n",
    "# add optimizer\n",
    "from keras import optimizers\n",
    "\n",
    "model.compile(loss='categorical_crossentropy',\n",
    "              optimizer=optimizers.RMSprop(lr=1e-4),\n",
    "              metrics=['acc'])"
   ]
  },
  {
   "cell_type": "code",
   "execution_count": 3,
   "metadata": {},
   "outputs": [
    {
     "name": "stdout",
     "output_type": "stream",
     "text": [
      "Epoch 1/30\n",
      "58/58 [==============================] - 3s 53ms/step - loss: 2.3640 - acc: 0.2086 - val_loss: 2.2423 - val_acc: 0.2554\n",
      "Epoch 2/30\n",
      "58/58 [==============================] - 3s 49ms/step - loss: 2.2537 - acc: 0.1974 - val_loss: 2.1901 - val_acc: 0.2609\n",
      "Epoch 3/30\n",
      "58/58 [==============================] - 3s 56ms/step - loss: 2.1967 - acc: 0.2181 - val_loss: 2.1542 - val_acc: 0.2978\n",
      "Epoch 4/30\n",
      "58/58 [==============================] - 4s 65ms/step - loss: 2.1798 - acc: 0.2086 - val_loss: 2.1252 - val_acc: 0.3641\n",
      "Epoch 5/30\n",
      "58/58 [==============================] - 4s 65ms/step - loss: 2.1329 - acc: 0.2069 - val_loss: 2.0604 - val_acc: 0.3880\n",
      "Epoch 6/30\n",
      "58/58 [==============================] - 3s 52ms/step - loss: 2.0946 - acc: 0.2353 - val_loss: 2.0340 - val_acc: 0.3772\n",
      "Epoch 7/30\n",
      "58/58 [==============================] - 3s 59ms/step - loss: 2.0604 - acc: 0.2595 - val_loss: 1.9969 - val_acc: 0.4000\n",
      "Epoch 8/30\n",
      "58/58 [==============================] - 3s 51ms/step - loss: 2.0438 - acc: 0.2517 - val_loss: 1.9816 - val_acc: 0.4326\n",
      "Epoch 9/30\n",
      "58/58 [==============================] - 3s 46ms/step - loss: 2.0037 - acc: 0.2733 - val_loss: 1.9777 - val_acc: 0.3870\n",
      "Epoch 10/30\n",
      "58/58 [==============================] - 3s 55ms/step - loss: 2.0018 - acc: 0.2474 - val_loss: 1.9087 - val_acc: 0.4076\n",
      "Epoch 11/30\n",
      "58/58 [==============================] - 3s 55ms/step - loss: 1.9786 - acc: 0.2698 - val_loss: 1.8868 - val_acc: 0.4185\n",
      "Epoch 12/30\n",
      "58/58 [==============================] - 3s 52ms/step - loss: 1.9274 - acc: 0.2897 - val_loss: 1.8732 - val_acc: 0.3967\n",
      "Epoch 13/30\n",
      "58/58 [==============================] - 4s 63ms/step - loss: 1.9099 - acc: 0.2871 - val_loss: 1.8051 - val_acc: 0.4141\n",
      "Epoch 14/30\n",
      "58/58 [==============================] - 4s 73ms/step - loss: 1.8850 - acc: 0.2922 - val_loss: 1.8035 - val_acc: 0.4196\n",
      "Epoch 15/30\n",
      "58/58 [==============================] - 3s 60ms/step - loss: 1.8686 - acc: 0.3198 - val_loss: 1.7930 - val_acc: 0.4674\n",
      "Epoch 16/30\n",
      "58/58 [==============================] - 3s 60ms/step - loss: 1.8412 - acc: 0.3181 - val_loss: 1.7234 - val_acc: 0.4348\n",
      "Epoch 17/30\n",
      "58/58 [==============================] - 4s 61ms/step - loss: 1.8292 - acc: 0.3181 - val_loss: 1.7203 - val_acc: 0.4370\n",
      "Epoch 18/30\n",
      "58/58 [==============================] - 4s 66ms/step - loss: 1.7854 - acc: 0.3216 - val_loss: 1.6617 - val_acc: 0.4424\n",
      "Epoch 19/30\n",
      "58/58 [==============================] - 3s 54ms/step - loss: 1.7668 - acc: 0.3474 - val_loss: 1.6457 - val_acc: 0.4391\n",
      "Epoch 20/30\n",
      "58/58 [==============================] - 3s 54ms/step - loss: 1.7522 - acc: 0.3534 - val_loss: 1.6413 - val_acc: 0.4326\n",
      "Epoch 21/30\n",
      "58/58 [==============================] - 3s 54ms/step - loss: 1.7283 - acc: 0.3422 - val_loss: 1.6530 - val_acc: 0.4109\n",
      "Epoch 22/30\n",
      "58/58 [==============================] - 4s 62ms/step - loss: 1.7105 - acc: 0.3578 - val_loss: 1.6144 - val_acc: 0.4348\n",
      "Epoch 23/30\n",
      "58/58 [==============================] - 4s 68ms/step - loss: 1.7188 - acc: 0.3250 - val_loss: 1.5935 - val_acc: 0.4793\n",
      "Epoch 24/30\n",
      "58/58 [==============================] - 4s 68ms/step - loss: 1.6754 - acc: 0.3457 - val_loss: 1.5578 - val_acc: 0.4652\n",
      "Epoch 25/30\n",
      "58/58 [==============================] - 4s 60ms/step - loss: 1.6399 - acc: 0.3836 - val_loss: 1.5440 - val_acc: 0.4728\n",
      "Epoch 26/30\n",
      "58/58 [==============================] - 4s 66ms/step - loss: 1.6337 - acc: 0.3681 - val_loss: 1.5332 - val_acc: 0.4554\n",
      "Epoch 27/30\n",
      "58/58 [==============================] - 4s 61ms/step - loss: 1.6344 - acc: 0.3784 - val_loss: 1.5320 - val_acc: 0.4848\n",
      "Epoch 28/30\n",
      "58/58 [==============================] - 4s 69ms/step - loss: 1.5803 - acc: 0.3853 - val_loss: 1.5195 - val_acc: 0.4630\n",
      "Epoch 29/30\n",
      "58/58 [==============================] - 4s 66ms/step - loss: 1.5919 - acc: 0.3853 - val_loss: 1.4964 - val_acc: 0.5315\n",
      "Epoch 30/30\n",
      "58/58 [==============================] - 4s 67ms/step - loss: 1.5998 - acc: 0.3828 - val_loss: 1.4879 - val_acc: 0.5283\n"
     ]
    }
   ],
   "source": [
    "# train and save model\n",
    "history = model.fit(train_features, train_labels,\n",
    "                    epochs=30,\n",
    "                    batch_size=20,\n",
    "                    validation_data=(validation_features, validation_labels))\n",
    "\n",
    "model.save('trash-classifier-0-7.h7')"
   ]
  },
  {
   "cell_type": "code",
   "execution_count": 4,
   "metadata": {},
   "outputs": [
    {
     "data": {
      "image/png": "[encoded data removed]",
      "text/plain": [
       "<Figure size 432x288 with 1 Axes>"
      ]
     },
     "metadata": {
      "needs_background": "light"
     },
     "output_type": "display_data"
    },
    {
     "data": {
      "image/png": "[encoded data removed]",
      "text/plain": [
       "<Figure size 432x288 with 1 Axes>"
      ]
     },
     "metadata": {
      "needs_background": "light"
     },
     "output_type": "display_data"
    }
   ],
   "source": [
    "# plot accuracy and loss graphs\n",
    "import matplotlib.pyplot as plt\n",
    "\n",
    "acc = history.history['acc']\n",
    "val_acc = history.history['val_acc']\n",
    "loss = history.history['loss']\n",
    "val_loss = history.history['val_loss']\n",
    "\n",
    "epochs = range(len(acc))\n",
    "\n",
    "plt.plot(epochs, acc, 'bo', label='Training acc')\n",
    "plt.plot(epochs, val_acc, 'b', label='Validation acc')\n",
    "plt.title('Training and validation accuracy')\n",
    "plt.legend()\n",
    "\n",
    "plt.figure()\n",
    "\n",
    "plt.plot(epochs, loss, 'bo', label='Training loss')\n",
    "plt.plot(epochs, val_loss, 'b', label='Validation loss')\n",
    "plt.title('Training and validation loss')\n",
    "plt.legend()\n",
    "\n",
    "plt.show()"
   ]
  },
  {
   "cell_type": "code",
   "execution_count": null,
   "metadata": {},
   "outputs": [],
   "source": []
  }
 ],
 "metadata": {
  "kernelspec": {
   "display_name": "Python 3",
   "language": "python",
   "name": "python3"
  },
  "language_info": {
   "codemirror_mode": {
    "name": "ipython",
    "version": 3
   },
   "file_extension": ".py",
   "mimetype": "text/x-python",
   "name": "python",
   "nbconvert_exporter": "python",
   "pygments_lexer": "ipython3",
   "version": "3.7.9"
  }
 },
 "nbformat": 4,
 "nbformat_minor": 4
}
