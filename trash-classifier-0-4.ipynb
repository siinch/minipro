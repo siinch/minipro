{
 "cells": [
  {
   "cell_type": "markdown",
   "metadata": {},
   "source": [
    "# Log 0.4\n",
    "1. Trying softmax activation instead of sigmoid\n",
    "2. Little/no overtraining , ended at around accuracy a(t) ~ 0.46, a(v) ~ 0.45 and loss l(t) ~ 1.4, l(v) ~ 1.4\n",
    "3. slightly better accuracy than sigmoid activation, but not significant\n",
    "4. Idea: Try to increase image size again, train more "
   ]
  },
  {
   "cell_type": "code",
   "execution_count": 1,
   "metadata": {},
   "outputs": [
    {
     "name": "stdout",
     "output_type": "stream",
     "text": [
      "data/training/cardboard number of items: 199\n",
      "data/training/glass number of items: 199\n",
      "data/training/metal number of items: 199\n",
      "data/training/paper number of items: 199\n",
      "data/training/plastic number of items: 299\n",
      "data/training/trash number of items: 69\n",
      "data/validating/cardboard number of items: 104\n",
      "data/validating/glass number of items: 202\n",
      "data/validating/metal number of items: 111\n",
      "data/validating/paper number of items: 295\n",
      "data/validating/plastic number of items: 183\n",
      "data/validating/trash number of items: 38\n",
      "data/testing/cardboard number of items: 100\n",
      "data/testing/glass number of items: 100\n",
      "data/testing/metal number of items: 100\n",
      "data/testing/paper number of items: 100\n",
      "data/testing/plastic number of items: 100\n",
      "data/testing/trash number of items: 30\n"
     ]
    }
   ],
   "source": [
    "# print out data splits for all categories\n",
    "import keras, os, shutil\n",
    "#keras.__version__ 2.4.3\n",
    "\n",
    "\n",
    "base = \"data\"\n",
    "splits = [\"training\", \"validating\", \"testing\"]\n",
    "categories = [\"cardboard\", \"glass\", \"metal\", \"paper\", \"plastic\", \"trash\"]\n",
    "\n",
    "\n",
    "for split in splits:\n",
    "    for category in categories:\n",
    "        path = os.path.join(base, split, category)\n",
    "        print (path, \"number of items:\", len(os.listdir(path)))"
   ]
  },
  {
   "cell_type": "code",
   "execution_count": 2,
   "metadata": {},
   "outputs": [
    {
     "name": "stdout",
     "output_type": "stream",
     "text": [
      "Found 1164 images belonging to 6 classes.\n",
      "Found 933 images belonging to 6 classes.\n",
      "data batch shape: (20, 64, 64, 3)\n",
      "labels batch shape: (20, 6)\n"
     ]
    }
   ],
   "source": [
    "# load data and print batch details\n",
    "from keras.preprocessing.image import ImageDataGenerator\n",
    "\n",
    "train_generator = ImageDataGenerator(rescale=1./255).flow_from_directory(\n",
    "        # This is the target directory\n",
    "        \"data/training\",\n",
    "        # image size\n",
    "        target_size=(64, 64),\n",
    "        batch_size=20,\n",
    "        class_mode='categorical')\n",
    "\n",
    "validation_generator = ImageDataGenerator(rescale=1./255).flow_from_directory(\n",
    "        \"data/validating\",\n",
    "        target_size=(64, 64),\n",
    "        batch_size=20,\n",
    "        class_mode='categorical')\n",
    "\n",
    "for data_batch, labels_batch in train_generator:\n",
    "    print('data batch shape:', data_batch.shape)\n",
    "    print('labels batch shape:', labels_batch.shape)\n",
    "    break"
   ]
  },
  {
   "cell_type": "code",
   "execution_count": 3,
   "metadata": {},
   "outputs": [
    {
     "name": "stdout",
     "output_type": "stream",
     "text": [
      "Model: \"sequential\"\n",
      "_________________________________________________________________\n",
      "Layer (type)                 Output Shape              Param #   \n",
      "=================================================================\n",
      "conv2d (Conv2D)              (None, 62, 62, 32)        896       \n",
      "_________________________________________________________________\n",
      "max_pooling2d (MaxPooling2D) (None, 31, 31, 32)        0         \n",
      "_________________________________________________________________\n",
      "conv2d_1 (Conv2D)            (None, 29, 29, 16)        4624      \n",
      "_________________________________________________________________\n",
      "max_pooling2d_1 (MaxPooling2 (None, 14, 14, 16)        0         \n",
      "_________________________________________________________________\n",
      "conv2d_2 (Conv2D)            (None, 12, 12, 32)        4640      \n",
      "_________________________________________________________________\n",
      "max_pooling2d_2 (MaxPooling2 (None, 6, 6, 32)          0         \n",
      "_________________________________________________________________\n",
      "conv2d_3 (Conv2D)            (None, 4, 4, 32)          9248      \n",
      "_________________________________________________________________\n",
      "max_pooling2d_3 (MaxPooling2 (None, 2, 2, 32)          0         \n",
      "_________________________________________________________________\n",
      "flatten (Flatten)            (None, 128)               0         \n",
      "_________________________________________________________________\n",
      "dropout (Dropout)            (None, 128)               0         \n",
      "_________________________________________________________________\n",
      "dense (Dense)                (None, 128)               16512     \n",
      "_________________________________________________________________\n",
      "dense_1 (Dense)              (None, 6)                 774       \n",
      "=================================================================\n",
      "Total params: 36,694\n",
      "Trainable params: 36,694\n",
      "Non-trainable params: 0\n",
      "_________________________________________________________________\n"
     ]
    }
   ],
   "source": [
    "# build network and print summary\n",
    "from keras import layers\n",
    "from keras import models\n",
    "from keras import regularizers\n",
    "\n",
    "model = models.Sequential()\n",
    "model.add(layers.Conv2D(32, (3, 3), activation='relu',\n",
    "                        input_shape=(64, 64, 3)))\n",
    "model.add(layers.MaxPooling2D((2, 2)))\n",
    "model.add(layers.Conv2D(16, (3, 3), activation='relu'))\n",
    "model.add(layers.MaxPooling2D((2, 2)))\n",
    "model.add(layers.Conv2D(32, (3, 3), activation='relu'))\n",
    "model.add(layers.MaxPooling2D((2, 2)))\n",
    "model.add(layers.Conv2D(32, (3, 3), activation='relu'))\n",
    "model.add(layers.MaxPooling2D((2, 2)))\n",
    "model.add(layers.Flatten())\n",
    "model.add(layers.Dropout(0.5))\n",
    "model.add(layers.Dense(128, kernel_regularizer=regularizers.l2(0.001), activation='relu'))\n",
    "model.add(layers.Dense(6, activation='softmax'))\n",
    "\n",
    "model.summary()\n",
    "\n",
    "\n",
    "# add optimizer\n",
    "from keras import optimizers\n",
    "\n",
    "model.compile(loss='categorical_crossentropy',\n",
    "              optimizer=optimizers.RMSprop(lr=1e-4),\n",
    "              metrics=['acc'])"
   ]
  },
  {
   "cell_type": "code",
   "execution_count": 4,
   "metadata": {},
   "outputs": [
    {
     "name": "stdout",
     "output_type": "stream",
     "text": [
      "WARNING:tensorflow:From <ipython-input-4-c81d81840aa8>:7: Model.fit_generator (from tensorflow.python.keras.engine.training) is deprecated and will be removed in a future version.\n",
      "Instructions for updating:\n",
      "Please use Model.fit, which supports generators.\n",
      "Epoch 1/30\n",
      "100/100 [==============================] - 18s 177ms/step - loss: 1.8940 - acc: 0.2253 - val_loss: 1.8649 - val_acc: 0.1994\n",
      "Epoch 2/30\n",
      "100/100 [==============================] - 23s 229ms/step - loss: 1.8420 - acc: 0.2622 - val_loss: 1.8247 - val_acc: 0.1843\n",
      "Epoch 3/30\n",
      "100/100 [==============================] - 24s 237ms/step - loss: 1.8366 - acc: 0.2439 - val_loss: 1.8032 - val_acc: 0.2095\n",
      "Epoch 4/30\n",
      "100/100 [==============================] - 23s 227ms/step - loss: 1.8135 - acc: 0.2576 - val_loss: 1.7910 - val_acc: 0.1903\n",
      "Epoch 5/30\n",
      "100/100 [==============================] - 23s 234ms/step - loss: 1.7969 - acc: 0.2627 - val_loss: 1.7694 - val_acc: 0.2085\n",
      "Epoch 6/30\n",
      "100/100 [==============================] - 23s 229ms/step - loss: 1.7845 - acc: 0.2734 - val_loss: 1.7615 - val_acc: 0.2175\n",
      "Epoch 7/30\n",
      "100/100 [==============================] - 24s 241ms/step - loss: 1.7511 - acc: 0.2984 - val_loss: 1.7220 - val_acc: 0.3021\n",
      "Epoch 8/30\n",
      "100/100 [==============================] - 22s 219ms/step - loss: 1.7166 - acc: 0.3283 - val_loss: 1.7032 - val_acc: 0.3082\n",
      "Epoch 9/30\n",
      "100/100 [==============================] - 24s 237ms/step - loss: 1.7074 - acc: 0.3465 - val_loss: 1.6618 - val_acc: 0.3072\n",
      "Epoch 10/30\n",
      "100/100 [==============================] - 23s 232ms/step - loss: 1.6571 - acc: 0.3876 - val_loss: 1.6336 - val_acc: 0.3152\n",
      "Epoch 11/30\n",
      "100/100 [==============================] - 25s 254ms/step - loss: 1.6517 - acc: 0.3882 - val_loss: 1.6082 - val_acc: 0.3384\n",
      "Epoch 12/30\n",
      "100/100 [==============================] - 22s 223ms/step - loss: 1.6122 - acc: 0.3943 - val_loss: 1.5860 - val_acc: 0.3296\n",
      "Epoch 13/30\n",
      "100/100 [==============================] - 21s 205ms/step - loss: 1.6238 - acc: 0.3943 - val_loss: 1.5622 - val_acc: 0.3394\n",
      "Epoch 14/30\n",
      "100/100 [==============================] - 20s 196ms/step - loss: 1.5903 - acc: 0.4012 - val_loss: 1.5332 - val_acc: 0.3283\n",
      "Epoch 15/30\n",
      "100/100 [==============================] - 24s 237ms/step - loss: 1.5609 - acc: 0.4131 - val_loss: 1.5240 - val_acc: 0.3394\n",
      "Epoch 16/30\n",
      "100/100 [==============================] - 25s 248ms/step - loss: 1.5568 - acc: 0.4085 - val_loss: 1.5091 - val_acc: 0.3686\n",
      "Epoch 17/30\n",
      "100/100 [==============================] - 23s 228ms/step - loss: 1.5100 - acc: 0.4390 - val_loss: 1.5057 - val_acc: 0.3867\n",
      "Epoch 18/30\n",
      "100/100 [==============================] - 23s 234ms/step - loss: 1.5051 - acc: 0.4385 - val_loss: 1.4638 - val_acc: 0.3998\n",
      "Epoch 19/30\n",
      "100/100 [==============================] - 25s 251ms/step - loss: 1.4893 - acc: 0.4411 - val_loss: 1.4506 - val_acc: 0.4290\n",
      "Epoch 20/30\n",
      "100/100 [==============================] - 21s 213ms/step - loss: 1.4847 - acc: 0.4466 - val_loss: 1.4471 - val_acc: 0.4089\n",
      "Epoch 21/30\n",
      "100/100 [==============================] - 24s 242ms/step - loss: 1.4765 - acc: 0.4477 - val_loss: 1.4408 - val_acc: 0.4391\n",
      "Epoch 22/30\n",
      "100/100 [==============================] - 25s 252ms/step - loss: 1.4442 - acc: 0.4705 - val_loss: 1.4005 - val_acc: 0.4371\n",
      "Epoch 23/30\n",
      "100/100 [==============================] - 24s 242ms/step - loss: 1.4538 - acc: 0.4558 - val_loss: 1.4304 - val_acc: 0.4320\n",
      "Epoch 24/30\n",
      "100/100 [==============================] - 23s 231ms/step - loss: 1.4300 - acc: 0.4637 - val_loss: 1.3920 - val_acc: 0.4533\n",
      "Epoch 25/30\n",
      "100/100 [==============================] - 26s 255ms/step - loss: 1.4348 - acc: 0.4715 - val_loss: 1.3727 - val_acc: 0.4421\n",
      "Epoch 26/30\n",
      "100/100 [==============================] - 23s 234ms/step - loss: 1.3965 - acc: 0.4782 - val_loss: 1.3918 - val_acc: 0.4552\n",
      "Epoch 27/30\n",
      "100/100 [==============================] - 24s 244ms/step - loss: 1.4318 - acc: 0.4617 - val_loss: 1.3658 - val_acc: 0.4632\n",
      "Epoch 28/30\n",
      "100/100 [==============================] - 25s 249ms/step - loss: 1.3879 - acc: 0.4853 - val_loss: 1.3838 - val_acc: 0.4532\n",
      "Epoch 29/30\n",
      "100/100 [==============================] - 26s 258ms/step - loss: 1.3844 - acc: 0.4822 - val_loss: 1.3472 - val_acc: 0.4612\n",
      "Epoch 30/30\n",
      "100/100 [==============================] - 28s 277ms/step - loss: 1.3834 - acc: 0.4783 - val_loss: 1.3389 - val_acc: 0.4622\n"
     ]
    }
   ],
   "source": [
    "# train and save model\n",
    "history = model.fit_generator(\n",
    "      train_generator,\n",
    "      steps_per_epoch=100,\n",
    "      epochs=30,\n",
    "      validation_data=validation_generator,\n",
    "      validation_steps=50)\n",
    "\n",
    "model.save('trash-classifier-0-4.h5')"
   ]
  },
  {
   "cell_type": "code",
   "execution_count": 5,
   "metadata": {},
   "outputs": [
    {
     "data": {
      "image/png": "[encoded data removed]",
      "text/plain": [
       "<Figure size 432x288 with 1 Axes>"
      ]
     },
     "metadata": {
      "needs_background": "light"
     },
     "output_type": "display_data"
    },
    {
     "data": {
      "image/png": "[encoded data removed]",
      "text/plain": [
       "<Figure size 432x288 with 1 Axes>"
      ]
     },
     "metadata": {
      "needs_background": "light"
     },
     "output_type": "display_data"
    }
   ],
   "source": [
    "# plot accuracy and loss graphs\n",
    "import matplotlib.pyplot as plt\n",
    "\n",
    "acc = history.history['acc']\n",
    "val_acc = history.history['val_acc']\n",
    "loss = history.history['loss']\n",
    "val_loss = history.history['val_loss']\n",
    "\n",
    "epochs = range(len(acc))\n",
    "\n",
    "plt.plot(epochs, acc, 'bo', label='Training acc')\n",
    "plt.plot(epochs, val_acc, 'b', label='Validation acc')\n",
    "plt.title('Training and validation accuracy')\n",
    "plt.legend()\n",
    "\n",
    "plt.figure()\n",
    "\n",
    "plt.plot(epochs, loss, 'bo', label='Training loss')\n",
    "plt.plot(epochs, val_loss, 'b', label='Validation loss')\n",
    "plt.title('Training and validation loss')\n",
    "plt.legend()\n",
    "\n",
    "plt.show()"
   ]
  }
 ],
 "metadata": {
  "kernelspec": {
   "display_name": "Python 3",
   "language": "python",
   "name": "python3"
  },
  "language_info": {
   "codemirror_mode": {
    "name": "ipython",
    "version": 3
   },
   "file_extension": ".py",
   "mimetype": "text/x-python",
   "name": "python",
   "nbconvert_exporter": "python",
   "pygments_lexer": "ipython3",
   "version": "3.7.9"
  }
 },
 "nbformat": 4,
 "nbformat_minor": 4
}
