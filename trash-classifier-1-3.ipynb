{
 "cells": [
  {
   "cell_type": "markdown",
   "metadata": {},
   "source": [
    "# Log 1.3\n",
    "1. try sigmoid activation\n",
    "2. less overtraining, but much worse results sub 50% accuracy\n",
    "3. Idea: back to softmax activation, try having less dropout\n"
   ]
  },
  {
   "cell_type": "code",
   "execution_count": 1,
   "metadata": {},
   "outputs": [],
   "source": [
    "# load features and labels\n",
    "import keras\n",
    "#keras.__version__ 2.4.3\n",
    "import numpy as np\n",
    "\n",
    "train_features = np.load(\"saved_train_features_augmented.npy\"); # load augmented data features\n",
    "validation_features = np.load(\"saved_validation_features.npy\");\n",
    "test_features = np.load(\"saved_test_features.npy\");\n",
    "train_labels = np.load(\"saved_train_labels_augmented.npy\"); # load augmented data labels\n",
    "validation_labels = np.load(\"saved_validation_labels.npy\");\n",
    "test_labels = np.load(\"saved_test_labels.npy\");\n"
   ]
  },
  {
   "cell_type": "code",
   "execution_count": 2,
   "metadata": {},
   "outputs": [
    {
     "name": "stdout",
     "output_type": "stream",
     "text": [
      "Model: \"sequential\"\n",
      "_________________________________________________________________\n",
      "Layer (type)                 Output Shape              Param #   \n",
      "=================================================================\n",
      "dense (Dense)                (None, 512)               4194816   \n",
      "_________________________________________________________________\n",
      "dropout (Dropout)            (None, 512)               0         \n",
      "_________________________________________________________________\n",
      "dense_1 (Dense)              (None, 256)               131328    \n",
      "_________________________________________________________________\n",
      "dropout_1 (Dropout)          (None, 256)               0         \n",
      "_________________________________________________________________\n",
      "dense_2 (Dense)              (None, 256)               65792     \n",
      "_________________________________________________________________\n",
      "dropout_2 (Dropout)          (None, 256)               0         \n",
      "_________________________________________________________________\n",
      "dense_3 (Dense)              (None, 128)               32896     \n",
      "_________________________________________________________________\n",
      "dropout_3 (Dropout)          (None, 128)               0         \n",
      "_________________________________________________________________\n",
      "dense_4 (Dense)              (None, 64)                8256      \n",
      "_________________________________________________________________\n",
      "dense_5 (Dense)              (None, 6)                 390       \n",
      "=================================================================\n",
      "Total params: 4,433,478\n",
      "Trainable params: 4,433,478\n",
      "Non-trainable params: 0\n",
      "_________________________________________________________________\n"
     ]
    }
   ],
   "source": [
    "# build network and print summary\n",
    "from keras import layers\n",
    "from keras import models\n",
    "from keras import regularizers\n",
    "\n",
    "model = models.Sequential()\n",
    "model.add(layers.Dense(2*2*128, kernel_regularizer=regularizers.l2(0.001), activation='relu', input_dim=4*4*512))\n",
    "model.add(layers.Dropout(0.5))\n",
    "model.add(layers.Dense(2*128, kernel_regularizer=regularizers.l2(0.001), activation='relu'))\n",
    "model.add(layers.Dropout(0.5))\n",
    "model.add(layers.Dense(2*2*64, kernel_regularizer=regularizers.l2(0.001), activation='relu'))\n",
    "model.add(layers.Dropout(0.5))\n",
    "model.add(layers.Dense(2*2*32, kernel_regularizer=regularizers.l2(0.001), activation='relu'))\n",
    "model.add(layers.Dropout(0.5))\n",
    "model.add(layers.Dense(2*2*16, kernel_regularizer=regularizers.l2(0.001), activation='relu'))\n",
    "model.add(layers.Dense(6, activation='sigmoid'))\n",
    "\n",
    "model.summary()\n",
    "\n",
    "\n",
    "# add optimizer\n",
    "from keras import optimizers\n",
    "\n",
    "model.compile(loss='categorical_crossentropy',\n",
    "              optimizer=optimizers.RMSprop(lr=1e-4),\n",
    "              metrics=['acc'])"
   ]
  },
  {
   "cell_type": "code",
   "execution_count": 3,
   "metadata": {},
   "outputs": [
    {
     "name": "stdout",
     "output_type": "stream",
     "text": [
      "Epoch 1/60\n",
      "58/58 [==============================] - 6s 100ms/step - loss: 3.4567 - acc: 0.2233 - val_loss: 3.2516 - val_acc: 0.2228\n",
      "Epoch 2/60\n",
      "58/58 [==============================] - 5s 91ms/step - loss: 3.2035 - acc: 0.2457 - val_loss: 3.0665 - val_acc: 0.2011\n",
      "Epoch 3/60\n",
      "58/58 [==============================] - 6s 105ms/step - loss: 3.0542 - acc: 0.2362 - val_loss: 2.9403 - val_acc: 0.2163\n",
      "Epoch 4/60\n",
      "58/58 [==============================] - 6s 97ms/step - loss: 2.9244 - acc: 0.2302 - val_loss: 2.8333 - val_acc: 0.2033\n",
      "Epoch 5/60\n",
      "58/58 [==============================] - 5s 94ms/step - loss: 2.8393 - acc: 0.2276 - val_loss: 2.7633 - val_acc: 0.2413\n",
      "Epoch 6/60\n",
      "58/58 [==============================] - 6s 96ms/step - loss: 2.7502 - acc: 0.2414 - val_loss: 2.6883 - val_acc: 0.1967\n",
      "Epoch 7/60\n",
      "58/58 [==============================] - 5s 94ms/step - loss: 2.6852 - acc: 0.2405 - val_loss: 2.6254 - val_acc: 0.2717\n",
      "Epoch 8/60\n",
      "58/58 [==============================] - 5s 92ms/step - loss: 2.6156 - acc: 0.2319 - val_loss: 2.5649 - val_acc: 0.2870\n",
      "Epoch 9/60\n",
      "58/58 [==============================] - 6s 97ms/step - loss: 2.5606 - acc: 0.2517 - val_loss: 2.5088 - val_acc: 0.2283\n",
      "Epoch 10/60\n",
      "58/58 [==============================] - 5s 91ms/step - loss: 2.5161 - acc: 0.2552 - val_loss: 2.4556 - val_acc: 0.1978\n",
      "Epoch 11/60\n",
      "58/58 [==============================] - 5s 92ms/step - loss: 2.4563 - acc: 0.2621 - val_loss: 2.3974 - val_acc: 0.1957\n",
      "Epoch 12/60\n",
      "58/58 [==============================] - 6s 107ms/step - loss: 2.4069 - acc: 0.2647 - val_loss: 2.3227 - val_acc: 0.2250\n",
      "Epoch 13/60\n",
      "58/58 [==============================] - 6s 98ms/step - loss: 2.3519 - acc: 0.2552 - val_loss: 2.2700 - val_acc: 0.2304\n",
      "Epoch 14/60\n",
      "58/58 [==============================] - 6s 99ms/step - loss: 2.2848 - acc: 0.2690 - val_loss: 2.2208 - val_acc: 0.2554\n",
      "Epoch 15/60\n",
      "58/58 [==============================] - 6s 101ms/step - loss: 2.2396 - acc: 0.2681 - val_loss: 2.1710 - val_acc: 0.2674\n",
      "Epoch 16/60\n",
      "58/58 [==============================] - 6s 102ms/step - loss: 2.1994 - acc: 0.2664 - val_loss: 2.1299 - val_acc: 0.2630\n",
      "Epoch 17/60\n",
      "58/58 [==============================] - 6s 97ms/step - loss: 2.1326 - acc: 0.2828 - val_loss: 2.0920 - val_acc: 0.2707\n",
      "Epoch 18/60\n",
      "58/58 [==============================] - 6s 106ms/step - loss: 2.0958 - acc: 0.2724 - val_loss: 2.0628 - val_acc: 0.2663\n",
      "Epoch 19/60\n",
      "58/58 [==============================] - 6s 104ms/step - loss: 2.0736 - acc: 0.2879 - val_loss: 2.0095 - val_acc: 0.2576\n",
      "Epoch 20/60\n",
      "58/58 [==============================] - 6s 100ms/step - loss: 2.0356 - acc: 0.2767 - val_loss: 1.9897 - val_acc: 0.2717\n",
      "Epoch 21/60\n",
      "58/58 [==============================] - 7s 125ms/step - loss: 2.0381 - acc: 0.3043 - val_loss: 1.9727 - val_acc: 0.2576\n",
      "Epoch 22/60\n",
      "58/58 [==============================] - 8s 132ms/step - loss: 1.9861 - acc: 0.3181 - val_loss: 1.9463 - val_acc: 0.2576\n",
      "Epoch 23/60\n",
      "58/58 [==============================] - 8s 137ms/step - loss: 1.9563 - acc: 0.3388 - val_loss: 1.9236 - val_acc: 0.2587\n",
      "Epoch 24/60\n",
      "58/58 [==============================] - 8s 136ms/step - loss: 1.9128 - acc: 0.3388 - val_loss: 1.9419 - val_acc: 0.2783\n",
      "Epoch 25/60\n",
      "58/58 [==============================] - 8s 139ms/step - loss: 1.9052 - acc: 0.3293 - val_loss: 1.9160 - val_acc: 0.2739\n",
      "Epoch 26/60\n",
      "58/58 [==============================] - 8s 139ms/step - loss: 1.8617 - acc: 0.3672 - val_loss: 1.8860 - val_acc: 0.2696\n",
      "Epoch 27/60\n",
      "58/58 [==============================] - 8s 136ms/step - loss: 1.8434 - acc: 0.3810 - val_loss: 1.8463 - val_acc: 0.2761\n",
      "Epoch 28/60\n",
      "58/58 [==============================] - 8s 142ms/step - loss: 1.7961 - acc: 0.3681 - val_loss: 1.8147 - val_acc: 0.2772\n",
      "Epoch 29/60\n",
      "58/58 [==============================] - 8s 140ms/step - loss: 1.7761 - acc: 0.3733 - val_loss: 1.7858 - val_acc: 0.2565\n",
      "Epoch 30/60\n",
      "58/58 [==============================] - 8s 144ms/step - loss: 1.7331 - acc: 0.3862 - val_loss: 1.7940 - val_acc: 0.2826\n",
      "Epoch 31/60\n",
      "58/58 [==============================] - 8s 142ms/step - loss: 1.7455 - acc: 0.3845 - val_loss: 1.7789 - val_acc: 0.3087\n",
      "Epoch 32/60\n",
      "58/58 [==============================] - 8s 140ms/step - loss: 1.7101 - acc: 0.3940 - val_loss: 1.8236 - val_acc: 0.3087\n",
      "Epoch 33/60\n",
      "58/58 [==============================] - 8s 140ms/step - loss: 1.6942 - acc: 0.4009 - val_loss: 1.7536 - val_acc: 0.3141\n",
      "Epoch 34/60\n",
      "58/58 [==============================] - 8s 135ms/step - loss: 1.6648 - acc: 0.4009 - val_loss: 1.7355 - val_acc: 0.3076\n",
      "Epoch 35/60\n",
      "58/58 [==============================] - 8s 140ms/step - loss: 1.6376 - acc: 0.4078 - val_loss: 1.7408 - val_acc: 0.2804\n",
      "Epoch 36/60\n",
      "58/58 [==============================] - 8s 135ms/step - loss: 1.6475 - acc: 0.4069 - val_loss: 1.7297 - val_acc: 0.2978\n",
      "Epoch 37/60\n",
      "58/58 [==============================] - 8s 132ms/step - loss: 1.6180 - acc: 0.4138 - val_loss: 1.7240 - val_acc: 0.3446\n",
      "Epoch 38/60\n",
      "58/58 [==============================] - 8s 131ms/step - loss: 1.6086 - acc: 0.3931 - val_loss: 1.7686 - val_acc: 0.3304\n",
      "Epoch 39/60\n",
      "58/58 [==============================] - 7s 125ms/step - loss: 1.5896 - acc: 0.3957 - val_loss: 1.7482 - val_acc: 0.3750\n",
      "Epoch 40/60\n",
      "58/58 [==============================] - 8s 133ms/step - loss: 1.5687 - acc: 0.4233 - val_loss: 1.8204 - val_acc: 0.3772\n",
      "Epoch 41/60\n",
      "58/58 [==============================] - 8s 138ms/step - loss: 1.5560 - acc: 0.4121 - val_loss: 1.8426 - val_acc: 0.3859\n",
      "Epoch 42/60\n",
      "58/58 [==============================] - 8s 131ms/step - loss: 1.5452 - acc: 0.4095 - val_loss: 1.7310 - val_acc: 0.2978\n",
      "Epoch 43/60\n",
      "58/58 [==============================] - 8s 130ms/step - loss: 1.5469 - acc: 0.4086 - val_loss: 1.7578 - val_acc: 0.3283\n",
      "Epoch 44/60\n",
      "58/58 [==============================] - 8s 146ms/step - loss: 1.5136 - acc: 0.4181 - val_loss: 1.7462 - val_acc: 0.3174\n",
      "Epoch 45/60\n",
      "58/58 [==============================] - 8s 144ms/step - loss: 1.5129 - acc: 0.4112 - val_loss: 1.7238 - val_acc: 0.4250\n",
      "Epoch 46/60\n",
      "58/58 [==============================] - 8s 141ms/step - loss: 1.5003 - acc: 0.4190 - val_loss: 1.6918 - val_acc: 0.4457\n",
      "Epoch 47/60\n",
      "58/58 [==============================] - 8s 140ms/step - loss: 1.4930 - acc: 0.4198 - val_loss: 1.7224 - val_acc: 0.4391\n",
      "Epoch 48/60\n",
      "58/58 [==============================] - 8s 131ms/step - loss: 1.4537 - acc: 0.4121 - val_loss: 1.7018 - val_acc: 0.4391\n",
      "Epoch 49/60\n",
      "58/58 [==============================] - 8s 140ms/step - loss: 1.4789 - acc: 0.4224 - val_loss: 1.6960 - val_acc: 0.4283\n",
      "Epoch 50/60\n",
      "58/58 [==============================] - 8s 140ms/step - loss: 1.4503 - acc: 0.4190 - val_loss: 1.6809 - val_acc: 0.4272\n",
      "Epoch 51/60\n",
      "58/58 [==============================] - 8s 142ms/step - loss: 1.4139 - acc: 0.4353 - val_loss: 1.6991 - val_acc: 0.4337\n",
      "Epoch 52/60\n",
      "58/58 [==============================] - 7s 125ms/step - loss: 1.3898 - acc: 0.4069 - val_loss: 1.7429 - val_acc: 0.4315\n",
      "Epoch 53/60\n",
      "58/58 [==============================] - 8s 131ms/step - loss: 1.4041 - acc: 0.4379 - val_loss: 1.6723 - val_acc: 0.4239\n",
      "Epoch 54/60\n",
      "58/58 [==============================] - 7s 127ms/step - loss: 1.3667 - acc: 0.4397 - val_loss: 1.7476 - val_acc: 0.4217\n",
      "Epoch 55/60\n",
      "58/58 [==============================] - 9s 150ms/step - loss: 1.3538 - acc: 0.4552 - val_loss: 1.6968 - val_acc: 0.4130\n",
      "Epoch 56/60\n",
      "58/58 [==============================] - 8s 131ms/step - loss: 1.3385 - acc: 0.4379 - val_loss: 1.7041 - val_acc: 0.4076\n",
      "Epoch 57/60\n",
      "58/58 [==============================] - 7s 120ms/step - loss: 1.3425 - acc: 0.4466 - val_loss: 1.7006 - val_acc: 0.4576\n",
      "Epoch 58/60\n",
      "58/58 [==============================] - 7s 126ms/step - loss: 1.3274 - acc: 0.4724 - val_loss: 1.7397 - val_acc: 0.4587\n",
      "Epoch 59/60\n",
      "58/58 [==============================] - 7s 128ms/step - loss: 1.3416 - acc: 0.4595 - val_loss: 1.7350 - val_acc: 0.4500\n",
      "Epoch 60/60\n",
      "58/58 [==============================] - 7s 123ms/step - loss: 1.2811 - acc: 0.4940 - val_loss: 1.6914 - val_acc: 0.4435\n"
     ]
    }
   ],
   "source": [
    "# train and save model\n",
    "history = model.fit(train_features, train_labels,\n",
    "                    epochs=60,\n",
    "                    batch_size=20,\n",
    "                    validation_data=(validation_features, validation_labels))\n",
    "\n",
    "model.save('trash-classifier-1-3.h5')"
   ]
  },
  {
   "cell_type": "code",
   "execution_count": 4,
   "metadata": {},
   "outputs": [
    {
     "data": {
      "image/png": "[encoded data removed]",
      "text/plain": [
       "<Figure size 432x288 with 1 Axes>"
      ]
     },
     "metadata": {
      "needs_background": "light"
     },
     "output_type": "display_data"
    },
    {
     "data": {
      "image/png": "[encoded data removed]",
      "text/plain": [
       "<Figure size 432x288 with 1 Axes>"
      ]
     },
     "metadata": {
      "needs_background": "light"
     },
     "output_type": "display_data"
    }
   ],
   "source": [
    "# plot accuracy and loss graphs\n",
    "import matplotlib.pyplot as plt\n",
    "\n",
    "acc = history.history['acc']\n",
    "val_acc = history.history['val_acc']\n",
    "loss = history.history['loss']\n",
    "val_loss = history.history['val_loss']\n",
    "\n",
    "epochs = range(len(acc))\n",
    "\n",
    "plt.plot(epochs, acc, 'bo', label='Training acc')\n",
    "plt.plot(epochs, val_acc, 'b', label='Validation acc')\n",
    "plt.title('Training and validation accuracy')\n",
    "plt.legend()\n",
    "\n",
    "plt.figure()\n",
    "\n",
    "plt.plot(epochs, loss, 'bo', label='Training loss')\n",
    "plt.plot(epochs, val_loss, 'b', label='Validation loss')\n",
    "plt.title('Training and validation loss')\n",
    "plt.legend()\n",
    "\n",
    "plt.show()"
   ]
  },
  {
   "cell_type": "code",
   "execution_count": null,
   "metadata": {},
   "outputs": [],
   "source": []
  }
 ],
 "metadata": {
  "kernelspec": {
   "display_name": "Python 3",
   "language": "python",
   "name": "python3"
  },
  "language_info": {
   "codemirror_mode": {
    "name": "ipython",
    "version": 3
   },
   "file_extension": ".py",
   "mimetype": "text/x-python",
   "name": "python",
   "nbconvert_exporter": "python",
   "pygments_lexer": "ipython3",
   "version": "3.7.9"
  }
 },
 "nbformat": 4,
 "nbformat_minor": 4
}
