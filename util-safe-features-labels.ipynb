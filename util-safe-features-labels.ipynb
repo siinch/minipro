{
 "cells": [
  {
   "cell_type": "markdown",
   "metadata": {},
   "source": [
    "# Log \n",
    "1. Saving features and labels to avoid running them through the covnet repeatedly\n",
    "2. the loaded data seems to produce the same results, so we can proceed\n"
   ]
  },
  {
   "cell_type": "code",
   "execution_count": 1,
   "metadata": {},
   "outputs": [
    {
     "name": "stdout",
     "output_type": "stream",
     "text": [
      "data/training/cardboard number of items: 199\n",
      "data/training/glass number of items: 199\n",
      "data/training/metal number of items: 199\n",
      "data/training/paper number of items: 199\n",
      "data/training/plastic number of items: 299\n",
      "data/training/trash number of items: 69\n",
      "data/validating/cardboard number of items: 104\n",
      "data/validating/glass number of items: 202\n",
      "data/validating/metal number of items: 111\n",
      "data/validating/paper number of items: 295\n",
      "data/validating/plastic number of items: 183\n",
      "data/validating/trash number of items: 38\n",
      "data/testing/cardboard number of items: 100\n",
      "data/testing/glass number of items: 100\n",
      "data/testing/metal number of items: 100\n",
      "data/testing/paper number of items: 100\n",
      "data/testing/plastic number of items: 100\n",
      "data/testing/trash number of items: 30\n"
     ]
    }
   ],
   "source": [
    "# print out data splits for all categories\n",
    "import keras, os, shutil\n",
    "#keras.__version__ 2.4.3\n",
    "\n",
    "\n",
    "base = \"data\"\n",
    "splits = [\"training\", \"validating\", \"testing\"]\n",
    "categories = [\"cardboard\", \"glass\", \"metal\", \"paper\", \"plastic\", \"trash\"]\n",
    "target_size = 128\n",
    "\n",
    "\n",
    "for split in splits:\n",
    "    for category in categories:\n",
    "        path = os.path.join(base, split, category)\n",
    "        print (path, \"number of items:\", len(os.listdir(path)))"
   ]
  },
  {
   "cell_type": "code",
   "execution_count": 2,
   "metadata": {},
   "outputs": [
    {
     "name": "stdout",
     "output_type": "stream",
     "text": [
      "Model: \"vgg16\"\n",
      "_________________________________________________________________\n",
      "Layer (type)                 Output Shape              Param #   \n",
      "=================================================================\n",
      "input_1 (InputLayer)         [(None, 128, 128, 3)]     0         \n",
      "_________________________________________________________________\n",
      "block1_conv1 (Conv2D)        (None, 128, 128, 64)      1792      \n",
      "_________________________________________________________________\n",
      "block1_conv2 (Conv2D)        (None, 128, 128, 64)      36928     \n",
      "_________________________________________________________________\n",
      "block1_pool (MaxPooling2D)   (None, 64, 64, 64)        0         \n",
      "_________________________________________________________________\n",
      "block2_conv1 (Conv2D)        (None, 64, 64, 128)       73856     \n",
      "_________________________________________________________________\n",
      "block2_conv2 (Conv2D)        (None, 64, 64, 128)       147584    \n",
      "_________________________________________________________________\n",
      "block2_pool (MaxPooling2D)   (None, 32, 32, 128)       0         \n",
      "_________________________________________________________________\n",
      "block3_conv1 (Conv2D)        (None, 32, 32, 256)       295168    \n",
      "_________________________________________________________________\n",
      "block3_conv2 (Conv2D)        (None, 32, 32, 256)       590080    \n",
      "_________________________________________________________________\n",
      "block3_conv3 (Conv2D)        (None, 32, 32, 256)       590080    \n",
      "_________________________________________________________________\n",
      "block3_pool (MaxPooling2D)   (None, 16, 16, 256)       0         \n",
      "_________________________________________________________________\n",
      "block4_conv1 (Conv2D)        (None, 16, 16, 512)       1180160   \n",
      "_________________________________________________________________\n",
      "block4_conv2 (Conv2D)        (None, 16, 16, 512)       2359808   \n",
      "_________________________________________________________________\n",
      "block4_conv3 (Conv2D)        (None, 16, 16, 512)       2359808   \n",
      "_________________________________________________________________\n",
      "block4_pool (MaxPooling2D)   (None, 8, 8, 512)         0         \n",
      "_________________________________________________________________\n",
      "block5_conv1 (Conv2D)        (None, 8, 8, 512)         2359808   \n",
      "_________________________________________________________________\n",
      "block5_conv2 (Conv2D)        (None, 8, 8, 512)         2359808   \n",
      "_________________________________________________________________\n",
      "block5_conv3 (Conv2D)        (None, 8, 8, 512)         2359808   \n",
      "_________________________________________________________________\n",
      "block5_pool (MaxPooling2D)   (None, 4, 4, 512)         0         \n",
      "=================================================================\n",
      "Total params: 14,714,688\n",
      "Trainable params: 14,714,688\n",
      "Non-trainable params: 0\n",
      "_________________________________________________________________\n"
     ]
    }
   ],
   "source": [
    "# import the VGG16 model\n",
    "import numpy as np\n",
    "from keras.applications import VGG16\n",
    "\n",
    "conv_base = VGG16(weights='imagenet',\n",
    "                  include_top=False,\n",
    "                  input_shape=(target_size, target_size, 3))\n",
    "\n",
    "conv_base.summary()"
   ]
  },
  {
   "cell_type": "code",
   "execution_count": 3,
   "metadata": {},
   "outputs": [
    {
     "name": "stdout",
     "output_type": "stream",
     "text": [
      "Found 1164 images belonging to 6 classes.\n",
      "Found 933 images belonging to 6 classes.\n",
      "Found 530 images belonging to 6 classes.\n"
     ]
    }
   ],
   "source": [
    "#load data and extract features\n",
    "from keras.preprocessing.image import ImageDataGenerator\n",
    "\n",
    "datagen = ImageDataGenerator(rescale=1./255)\n",
    "batch_size = 20\n",
    "\n",
    "def extract_features(directory, sample_count):\n",
    "    features = np.zeros(shape=(sample_count, 4, 4, 512))\n",
    "    labels = np.zeros(shape=(sample_count, 6)) #added '6' to fit the number of classes\n",
    "    generator = datagen.flow_from_directory(\n",
    "        directory,\n",
    "        target_size=(target_size, target_size),\n",
    "        batch_size= batch_size,\n",
    "        class_mode='categorical')\n",
    "    i = 0\n",
    "    for inputs_batch, labels_batch in generator:\n",
    "        features_batch = conv_base.predict(inputs_batch)\n",
    "        features[i * batch_size : (i + 1) * batch_size] = features_batch\n",
    "        labels[i * batch_size : (i + 1) * batch_size] = labels_batch\n",
    "        i += 1\n",
    "        if i * batch_size >= sample_count:\n",
    "            # Note that since generators yield data indefinitely in a loop,\n",
    "            # we must `break` after every image has been seen once.\n",
    "            break\n",
    "    return features, labels\n",
    "\n",
    "train_features, train_labels = extract_features(\"data/training\", 1160)#changed to fit sample size\n",
    "validation_features, validation_labels = extract_features(\"data/validating\", 920) #this one too\n",
    "test_features, test_labels = extract_features(\"data/testing\", 520) # and this\n",
    "\n",
    "# reshape\n",
    "train_features = np.reshape(train_features, (1160, 4 * 4 * 512))\n",
    "validation_features = np.reshape(validation_features, (920, 4 * 4 * 512))\n",
    "test_features = np.reshape(test_features, (520, 4 * 4 * 512))"
   ]
  },
  {
   "cell_type": "code",
   "execution_count": 9,
   "metadata": {},
   "outputs": [],
   "source": [
    "# save features and labels\n",
    "np.save(\"saved_train_features.npy\", train_features);\n",
    "np.save(\"saved_validation_features.npy\", validation_features);\n",
    "np.save(\"saved_test_features.npy\", test_features);\n",
    "np.save(\"saved_train_labels.npy\", train_labels);\n",
    "np.save(\"saved_validation_labels.npy\", validation_labels);\n",
    "np.save(\"saved_test_labels.npy\", test_features);\n",
    "\n"
   ]
  },
  {
   "cell_type": "code",
   "execution_count": 11,
   "metadata": {},
   "outputs": [],
   "source": [
    "#  test load features and labels\n",
    "loaded_train_features = np.load(\"saved_train_features.npy\");\n",
    "loaded_validation_features = np.load(\"saved_validation_features.npy\");\n",
    "loaded_test_features = np.load(\"saved_test_features.npy\");\n",
    "loaded_train_labels = np.load(\"saved_train_labels.npy\");\n",
    "loaded_validation_labels = np.load(\"saved_validation_labels.npy\");\n",
    "loaded_test_labels = np.load(\"saved_test_labels.npy\");"
   ]
  },
  {
   "cell_type": "code",
   "execution_count": 12,
   "metadata": {},
   "outputs": [
    {
     "name": "stdout",
     "output_type": "stream",
     "text": [
      "Model: \"sequential\"\n",
      "_________________________________________________________________\n",
      "Layer (type)                 Output Shape              Param #   \n",
      "=================================================================\n",
      "dense (Dense)                (None, 128)               1048704   \n",
      "_________________________________________________________________\n",
      "dropout (Dropout)            (None, 128)               0         \n",
      "_________________________________________________________________\n",
      "dense_1 (Dense)              (None, 6)                 774       \n",
      "=================================================================\n",
      "Total params: 1,049,478\n",
      "Trainable params: 1,049,478\n",
      "Non-trainable params: 0\n",
      "_________________________________________________________________\n"
     ]
    }
   ],
   "source": [
    "# TESTING IF THE LOADED DATA WORKS!\n",
    "# build network and print summary\n",
    "from keras import layers\n",
    "from keras import models\n",
    "from keras import regularizers\n",
    "\n",
    "model = models.Sequential()\n",
    "model.add(layers.Dense(128, kernel_regularizer=regularizers.l2(0.001), activation='relu', input_dim=4*4*512))\n",
    "model.add(layers.Dropout(0.5))\n",
    "model.add(layers.Dense(6, activation='softmax'))\n",
    "\n",
    "model.summary()\n",
    "\n",
    "\n",
    "# add optimizer\n",
    "from keras import optimizers\n",
    "\n",
    "model.compile(loss='categorical_crossentropy',\n",
    "              optimizer=optimizers.RMSprop(lr=1e-4),\n",
    "              metrics=['acc'])"
   ]
  },
  {
   "cell_type": "code",
   "execution_count": 13,
   "metadata": {},
   "outputs": [
    {
     "name": "stdout",
     "output_type": "stream",
     "text": [
      "Epoch 1/10\n",
      "58/58 [==============================] - 2s 37ms/step - loss: 1.8167 - acc: 0.3431 - val_loss: 1.4750 - val_acc: 0.5620\n",
      "Epoch 2/10\n",
      "58/58 [==============================] - 2s 30ms/step - loss: 1.4456 - acc: 0.5138 - val_loss: 1.3607 - val_acc: 0.5500\n",
      "Epoch 3/10\n",
      "58/58 [==============================] - 2s 37ms/step - loss: 1.2159 - acc: 0.6086 - val_loss: 1.2250 - val_acc: 0.5913\n",
      "Epoch 4/10\n",
      "58/58 [==============================] - 2s 36ms/step - loss: 1.1046 - acc: 0.6655 - val_loss: 1.1323 - val_acc: 0.6522\n",
      "Epoch 5/10\n",
      "58/58 [==============================] - 3s 46ms/step - loss: 0.9819 - acc: 0.7233 - val_loss: 1.0188 - val_acc: 0.6957\n",
      "Epoch 6/10\n",
      "58/58 [==============================] - 2s 36ms/step - loss: 0.9191 - acc: 0.7336 - val_loss: 0.9941 - val_acc: 0.6772\n",
      "Epoch 7/10\n",
      "58/58 [==============================] - 3s 45ms/step - loss: 0.8397 - acc: 0.7534 - val_loss: 1.0476 - val_acc: 0.6576\n",
      "Epoch 8/10\n",
      "58/58 [==============================] - 3s 52ms/step - loss: 0.7668 - acc: 0.7940 - val_loss: 0.9514 - val_acc: 0.7022\n",
      "Epoch 9/10\n",
      "58/58 [==============================] - 2s 42ms/step - loss: 0.7021 - acc: 0.8052 - val_loss: 1.0122 - val_acc: 0.6467\n",
      "Epoch 10/10\n",
      "58/58 [==============================] - 3s 47ms/step - loss: 0.6835 - acc: 0.8198 - val_loss: 0.9720 - val_acc: 0.6717\n"
     ]
    }
   ],
   "source": [
    "# train and save model\n",
    "history = model.fit(loaded_train_features, loaded_train_labels,\n",
    "                    epochs=10,\n",
    "                    batch_size=20,\n",
    "                    validation_data=(loaded_validation_features, loaded_validation_labels))\n",
    "\n",
    "#model.save('trash-classifier-0-6.h5')"
   ]
  },
  {
   "cell_type": "code",
   "execution_count": 14,
   "metadata": {},
   "outputs": [
    {
     "data": {
      "image/png": "[encoded data removed]",
      "text/plain": [
       "<Figure size 432x288 with 1 Axes>"
      ]
     },
     "metadata": {
      "needs_background": "light"
     },
     "output_type": "display_data"
    },
    {
     "data": {
      "image/png": "[encoded data removed]",
      "text/plain": [
       "<Figure size 432x288 with 1 Axes>"
      ]
     },
     "metadata": {
      "needs_background": "light"
     },
     "output_type": "display_data"
    }
   ],
   "source": [
    "# plot accuracy and loss graphs\n",
    "import matplotlib.pyplot as plt\n",
    "\n",
    "acc = history.history['acc']\n",
    "val_acc = history.history['val_acc']\n",
    "loss = history.history['loss']\n",
    "val_loss = history.history['val_loss']\n",
    "\n",
    "epochs = range(len(acc))\n",
    "\n",
    "plt.plot(epochs, acc, 'bo', label='Training acc')\n",
    "plt.plot(epochs, val_acc, 'b', label='Validation acc')\n",
    "plt.title('Training and validation accuracy')\n",
    "plt.legend()\n",
    "\n",
    "plt.figure()\n",
    "\n",
    "plt.plot(epochs, loss, 'bo', label='Training loss')\n",
    "plt.plot(epochs, val_loss, 'b', label='Validation loss')\n",
    "plt.title('Training and validation loss')\n",
    "plt.legend()\n",
    "\n",
    "plt.show()"
   ]
  },
  {
   "cell_type": "code",
   "execution_count": null,
   "metadata": {},
   "outputs": [],
   "source": []
  }
 ],
 "metadata": {
  "kernelspec": {
   "display_name": "Python 3",
   "language": "python",
   "name": "python3"
  },
  "language_info": {
   "codemirror_mode": {
    "name": "ipython",
    "version": 3
   },
   "file_extension": ".py",
   "mimetype": "text/x-python",
   "name": "python",
   "nbconvert_exporter": "python",
   "pygments_lexer": "ipython3",
   "version": "3.7.9"
  }
 },
 "nbformat": 4,
 "nbformat_minor": 4
}
